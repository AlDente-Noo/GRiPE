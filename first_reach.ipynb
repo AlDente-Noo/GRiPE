{
 "cells": [
  {
   "cell_type": "code",
   "execution_count": 11,
   "metadata": {},
   "outputs": [
    {
     "name": "stdout",
     "output_type": "stream",
     "text": [
      "/home/al_dente/Downloads/GRiPE/GRiPE\n"
     ]
    }
   ],
   "source": [
    "import pandas as pd\n",
    "from utils import *\n",
    "import numpy as np \n",
    "import csv\n",
    "from itertools import islice\n",
    "import matplotlib.pyplot as plt\n",
    "import os\n",
    "import subprocess\n",
    "from joblib import Parallel, delayed\n",
    "from pathlib import Path\n",
    "import glob\n",
    "print(PROJ_DIR)\n"
   ]
  },
  {
   "cell_type": "code",
   "execution_count": 3,
   "metadata": {},
   "outputs": [],
   "source": [
    "for i in range(4):\n",
    "    args = 'params_example.grp', '1', '10000000000'\n",
    "    proc = subprocess.run(['/home/al_dente/.jdks/openjdk-20/bin/java', '-classpath', JAVA_CLASS_PATH, JAVA_CLASS, *args], cwd=PROJ_DIR, capture_output=True)\n",
    "    output = proc.stdout.decode()\n",
    "    outerr = proc.stderr.decode()\n",
    "    if not (outerr == ''):\n",
    "        print(outerr + '\\n')"
   ]
  },
  {
   "cell_type": "code",
   "execution_count": 50,
   "metadata": {},
   "outputs": [],
   "source": [
    "path = 'results_example/results_tau_0/first_reach' #drosoph_kr_target_site_17327921414096926401.csv len is 47\n",
    "#print(len(path))\n",
    "avrg_first_reach = []\n",
    "with os.scandir(path) as it:\n",
    "    for entry in it:\n",
    "        if entry.name.endswith(\".csv\") and entry.is_file() and str(entry).find(\"target_site\")!=-1 and len(str(entry)) < 67:\n",
    "            avrg_first_reach.append(pd.read_csv(entry.path,sep=',', usecols = [1]))\n"
   ]
  },
  {
   "cell_type": "code",
   "execution_count": 70,
   "metadata": {},
   "outputs": [
    {
     "name": "stdout",
     "output_type": "stream",
     "text": [
      "     \"firstReached\"\n",
      "0      35949.222910\n",
      "1      27693.654147\n",
      "2      36829.676865\n",
      "3      39715.141608\n",
      "4      39715.142159\n",
      "..              ...\n",
      "78     32614.386574\n",
      "79     21505.047780\n",
      "80     30300.572607\n",
      "81     30301.494952\n",
      "82     30301.560421\n",
      "\n",
      "[83 rows x 1 columns]\n"
     ]
    }
   ],
   "source": [
    "#print(len(avrg_first_reach))\n",
    "for i in avrg_first_reach:\n",
    "    avrg_first_reach[0]+=i\n",
    "res_vector = avrg_first_reach[0]\n",
    "print(avrg_first_reach[0]/len(avrg_first_reach))\n",
    "\n"
   ]
  },
  {
   "cell_type": "code",
   "execution_count": 10,
   "metadata": {},
   "outputs": [
    {
     "ename": "NameError",
     "evalue": "name '__file__' is not defined",
     "output_type": "error",
     "traceback": [
      "\u001b[0;31m---------------------------------------------------------------------------\u001b[0m",
      "\u001b[0;31mNameError\u001b[0m                                 Traceback (most recent call last)",
      "Cell \u001b[0;32mIn[10], line 1\u001b[0m\n\u001b[0;32m----> 1\u001b[0m \u001b[39mstr\u001b[39m(pathlib\u001b[39m.\u001b[39mPath(\u001b[39m__file__\u001b[39m)\u001b[39m.\u001b[39mparent\u001b[39m.\u001b[39mresolve())\n",
      "\u001b[0;31mNameError\u001b[0m: name '__file__' is not defined"
     ]
    }
   ],
   "source": [
    "str(pathlib.Path(__file__).parent.resolve())"
   ]
  },
  {
   "cell_type": "code",
   "execution_count": 6,
   "metadata": {},
   "outputs": [
    {
     "data": {
      "text/plain": [
       "'/home/al_dente/Downloads/GRiPE/GRiPE'"
      ]
     },
     "execution_count": 6,
     "metadata": {},
     "output_type": "execute_result"
    }
   ],
   "source": [
    "PROJ_DIR"
   ]
  },
  {
   "cell_type": "code",
   "execution_count": null,
   "metadata": {},
   "outputs": [],
   "source": []
  }
 ],
 "metadata": {
  "kernelspec": {
   "display_name": "GRiPE-env",
   "language": "python",
   "name": "python3"
  },
  "language_info": {
   "codemirror_mode": {
    "name": "ipython",
    "version": 3
   },
   "file_extension": ".py",
   "mimetype": "text/x-python",
   "name": "python",
   "nbconvert_exporter": "python",
   "pygments_lexer": "ipython3",
   "version": "3.11.2"
  },
  "orig_nbformat": 4,
  "vscode": {
   "interpreter": {
    "hash": "f77047295979cdd0d0a993e289ec5c9e309b75c4d392b8e7788d47841a64928b"
   }
  }
 },
 "nbformat": 4,
 "nbformat_minor": 2
}
