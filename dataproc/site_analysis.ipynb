{
 "cells": [
  {
   "cell_type": "code",
   "execution_count": 1,
   "metadata": {},
   "outputs": [
    {
     "name": "stdout",
     "output_type": "stream",
     "text": [
      "Project root directory: /home/fedor/Documents/GRiPE\n"
     ]
    }
   ],
   "source": [
    "from utils import *\n",
    "print('Project root directory:', PROJ_DIR)\n",
    "\n",
    "import numpy as np\n",
    "import scipy as sp\n",
    "import pandas as pd\n",
    "import matplotlib.pyplot as plt\n",
    "import os\n",
    "\n",
    "dir = os.path.join(PROJ_DIR, BIODATA_DIR, 'drosophila_master')\n",
    "tf_master_data_filename = 'result_upstream12k_downstream6k_hkbadd.xls'\n",
    "repressors_filename = 'repressors.xls'\n",
    "\n",
    "SITE_START = 'loc. start'\n",
    "SITE_END = 'loc. end'\n",
    "\n",
    "# load data\n",
    "data = pd.read_excel(os.path.join(dir, tf_master_data_filename), sheet_name=None)\n",
    "repressors = pd.read_excel(os.path.join(dir, repressors_filename), index_col=0)\n",
    "# lowercase protein and gene names\n",
    "data = {key.lower(): val for key, val in data.items()}\n",
    "repressors.index = repressors.index.str.lower()\n",
    "repressors.columns = repressors.columns.str.lower()\n",
    "# some useful arrays\n",
    "tf_list = repressors.columns[1:].to_list()\n",
    "genes_list = repressors.index.to_list()"
   ]
  },
  {
   "cell_type": "code",
   "execution_count": 12,
   "metadata": {},
   "outputs": [],
   "source": [
    "def is_repressor(gene_name, tf_name):\n",
    "    return bool(repressors.loc[gene_name, tf_name])\n",
    "\n",
    "def func(data, gene, site_i, radius, pattern, start, end, id):\n",
    "    if site_i < 0:\n",
    "        return 0\n",
    "    # select sites in radius\n",
    "    site_pos = data.loc[site_i][SITE_START]\n",
    "    site_end = data.loc[site_i][SITE_END]\n",
    "    cond1 = data[SITE_END] > site_pos - radius\n",
    "    cond2 = data[SITE_START] < site_end + radius\n",
    "    sites_in_rad = data.loc[cond1 & cond2]\n",
    "    # add these sites to the lists and save the last repressor\n",
    "    last_repr_id = -1\n",
    "    n = 0\n",
    "    for i, site in sites_in_rad.iterrows():\n",
    "        if not (i in id): # if the current site is not in the list\n",
    "            if len(end) > 0 and site.loc[SITE_START] < end[-1]:\n",
    "                pattern.append('/') # indicates overlap of sites\n",
    "            if is_repressor(gene, site.loc['tf']):\n",
    "                pattern.append('R')\n",
    "                last_repr_id = i\n",
    "            else:\n",
    "                pattern.append('A')\n",
    "            if len(start) > 0 and site.loc[SITE_START] > data.loc[site_i][SITE_START]:\n",
    "                n += 1\n",
    "            id.append(i)\n",
    "            start.append(site.loc[SITE_START])\n",
    "            end.append(site.loc[SITE_END])\n",
    "    # call this func with the last repressor\n",
    "    #print(pattern, start, end, id)\n",
    "    n1 = func(data, gene, last_repr_id, radius, pattern, start, end, id)\n",
    "    # return the number of new sites to the right of the current one\n",
    "    return n + n1"
   ]
  },
  {
   "cell_type": "code",
   "execution_count": 20,
   "metadata": {},
   "outputs": [
    {
     "name": "stdout",
     "output_type": "stream",
     "text": [
      "site_patterns_rad_2.xlsx\n"
     ]
    }
   ],
   "source": [
    "repr_radius = 2\n",
    "print('site_patterns_rad_{}.xlsx'.format(repr_radius))"
   ]
  },
  {
   "cell_type": "code",
   "execution_count": 21,
   "metadata": {},
   "outputs": [],
   "source": [
    "for repr_radius in [10, 50, 100]:\n",
    "    writer = pd.ExcelWriter(os.path.join(dir, 'site_patterns_rad_{}.xlsx'.format(repr_radius)), engine=\"xlsxwriter\")\n",
    "    for gene in genes_list:\n",
    "        site_groups = pd.DataFrame(columns=['pattern', 'strand', 'start', 'end', 'id'])\n",
    "        data_sorted = data[gene].sort_values(SITE_START)\n",
    "        for strand in ['+', '-']:\n",
    "            data_sorted_strand = data_sorted.loc[data_sorted['loc. strand'] == strand]\n",
    "            iter = data_sorted_strand.iterrows()\n",
    "            for site_i, site in iter:\n",
    "                if is_repressor(gene, site['tf']):\n",
    "                    pattern = []\n",
    "                    start = []\n",
    "                    end = []\n",
    "                    id = []\n",
    "                    n = func(data_sorted_strand, gene, site_i, repr_radius, pattern, start, end, id)\n",
    "                    for _ in range(n):\n",
    "                        next(iter)\n",
    "                    #print(\"\".join(pattern), len(start), len(id), n)\n",
    "                    site_groups = site_groups.append({'pattern': \"\".join(pattern), 'start': np.array(start), 'strand': strand,\n",
    "                                                    'end': np.array(end), 'id': np.array(id)}, ignore_index=True)\n",
    "        site_groups.to_excel(writer, sheet_name=gene, index=False)\n",
    "    writer.save()"
   ]
  },
  {
   "cell_type": "code",
   "execution_count": null,
   "metadata": {},
   "outputs": [],
   "source": []
  }
 ],
 "metadata": {
  "interpreter": {
   "hash": "083cdcd5ea58991a92d8d14fcfa0e0e9aafad1787a850443cca49639739acb31"
  },
  "kernelspec": {
   "display_name": "Python 3",
   "language": "python",
   "name": "python3"
  },
  "language_info": {
   "codemirror_mode": {
    "name": "ipython",
    "version": 3
   },
   "file_extension": ".py",
   "mimetype": "text/x-python",
   "name": "python",
   "nbconvert_exporter": "python",
   "pygments_lexer": "ipython3",
   "version": "3.8.8"
  }
 },
 "nbformat": 4,
 "nbformat_minor": 2
}
