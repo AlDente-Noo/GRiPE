{
 "cells": [
  {
   "cell_type": "code",
   "execution_count": 22,
   "metadata": {},
   "outputs": [
    {
     "name": "stdout",
     "output_type": "stream",
     "text": [
      "Project root directory: C:\\Users\\Fedor\\Documents\\GRiPE\n"
     ]
    }
   ],
   "source": [
    "from utils import *\n",
    "print('Project root directory:', PROJ_DIR)\n",
    "#print('Results directory:     ', RES_DIR)\n",
    "\n",
    "import numpy as np\n",
    "import scipy as sp\n",
    "import pandas as pd\n",
    "import matplotlib.pyplot as plt\n",
    "import os"
   ]
  },
  {
   "cell_type": "code",
   "execution_count": 34,
   "metadata": {},
   "outputs": [],
   "source": [
    "def check_dict_params(dp):\n",
    "    #if float(dp[TOTAL_SIM_TIME]) != 10000.: return False\n",
    "    #if int(dp[ENSAMBLE_SIZE]) != 1000: return False\n",
    "    #if int(dp['RANDOM_SEED']) != 0: return False\n",
    "    return True\n",
    "\n",
    "def check_tf_params(dftf):\n",
    "    if len(dftf) != 1: return False\n",
    "    # no facilitated diffusion\n",
    "    if float(dftf[UNBIND_PROB][0]) != 1.0: return False\n",
    "    # no 3D diffusion\n",
    "    #if float(dftf[UNBIND_PROB][0]) != 0.0: return False\n",
    "    return True"
   ]
  },
  {
   "cell_type": "code",
   "execution_count": 35,
   "metadata": {},
   "outputs": [
    {
     "name": "stdout",
     "output_type": "stream",
     "text": [
      "Something wrong with the TF file in C:\\Users\\Fedor\\Documents\\GRiPE\\results, id 12118358867738410737.\n",
      "Something wrong with the TF file in C:\\Users\\Fedor\\Documents\\GRiPE\\results, id 14613919256255676409.\n",
      "Something wrong with the TF file in C:\\Users\\Fedor\\Documents\\GRiPE\\results, id 1696428307879613927.\n",
      "['C:\\\\Users\\\\Fedor\\\\Documents\\\\GRiPE\\\\results\\\\drosophila_kr_1_no_repr_no_facilit', 'C:\\\\Users\\\\Fedor\\\\Documents\\\\GRiPE\\\\results\\\\drosophila_kr_1_no_repr_no_facilit'] ['drosoph_kr_1_hb', 'drosoph_kr_1_kr'] ['2470709189931105060', '1170263794088494801']\n"
     ]
    }
   ],
   "source": [
    "# get results file names\n",
    "#dp = {TOTAL_SIM_TIME: '1000.0', ENSAMBLE_SIZE: '1000'}\n",
    "#tf_list = ['Kr', 'hb', 'gt', 'kni', 'bcd', 'cad', 'tll', 'hkb']\n",
    "#dftf = pd.DataFrame([['1','0.']]*len(tf_list), columns=[COPY_NUMBER, UNBIND_PROB], index=tf_list)\n",
    "#dftf = pd.DataFrame(['1',], columns=[COPY_NUMBER], index=[tf_list[0]])\n",
    "res_dirs, prefixes, ids = get_results_match_params(os.path.join(PROJ_DIR, RES_DIR), check_dict_params, check_tf_params)\n",
    "print(res_dirs, prefixes, ids)"
   ]
  },
  {
   "cell_type": "code",
   "execution_count": 44,
   "metadata": {},
   "outputs": [],
   "source": [
    "k = -2\n",
    "res_dir = res_dirs[k]\n",
    "prefix = prefixes[k]\n",
    "id = ids[k]"
   ]
  },
  {
   "cell_type": "code",
   "execution_count": 45,
   "metadata": {},
   "outputs": [],
   "source": [
    "# parameters of experinemt (directory, file prefix and experiment id)\n",
    "#dir = os.path.join(PROJ_DIR, 'results', 'test_no_repr_long_dna')\n",
    "#res_dir = os.path.join(PROJ_DIR, RES_DIR, 'drosophila_kr_1_no_repr_no_facilit')\n",
    "#par_dir = os.path.join(PROJ_DIR, BIODATA_DIR, 'drosophila_kr')\n",
    "#prefix = 'drosoph_kr_1'\n",
    "#id = 1876307244743812423\n",
    "#id = '15955359011230914012'\n",
    "#id = '3050453005152332055' #'11978643740589520233'#15528920285518599178'\n",
    "#id = '7972853261792450352'\n",
    "#id = '5872830590912705837'#'12546903617970327114'"
   ]
  },
  {
   "cell_type": "code",
   "execution_count": 46,
   "metadata": {},
   "outputs": [
    {
     "name": "stdout",
     "output_type": "stream",
     "text": [
      "STOP_TIME: 10000.0\n",
      "ENSAMBLE_SIZE: 100000\n",
      "No btrack file, the whole chromatin is assumed to be open\n"
     ]
    }
   ],
   "source": [
    "# load occupancy (occupancy.wig)\n",
    "df_occupancy = read_wig_to_dataframe(get_name(res_dir, prefix, OCCUPANCY, id, 'wig'), index=0)\n",
    "df_occupancy['collisionsCount'] = np.array(df_occupancy['collisionsCount'], dtype=int)\n",
    "# load energies (PFM-based)\n",
    "df_site_energy = read_wig_to_dataframe(get_name(res_dir, prefix, ENERGY, id, 'wig'), index=0)\n",
    "# load tf data\n",
    "df_tf_data = read_csv_to_dataframe(get_name(res_dir, prefix, TF_SPECIES, id, 'csv'))\n",
    "# load params\n",
    "dict_params = read_params_to_dict(get_name(res_dir, prefix, PARAMS, id, 'grp'))\n",
    "# load target sites\n",
    "ts_filename = os.path.join(PROJ_DIR, *dict_params[TS_FILE].split(DIR_SEP))\n",
    "df_target_sites = create_target_site_df(ts_filename, df_tf_data, df_site_energy)\n",
    "# some important numbers from parameters\n",
    "total_time = float(dict_params[TOTAL_SIM_TIME])\n",
    "ensemble_size = int(dict_params[ENSAMBLE_SIZE])\n",
    "print(TOTAL_SIM_TIME + ':', total_time)\n",
    "print(ENSAMBLE_SIZE + ':', ensemble_size)\n",
    "positions = np.array(df_occupancy.index-12000)\n",
    "positions_i = np.array(df_occupancy.index)\n",
    "# load positions availability (btrack)\n",
    "btrack_path = os.path.join(PROJ_DIR, *dict_params[BTRACK].split(DIR_SEP))\n",
    "if os.path.isfile(btrack_path):\n",
    "    btrack = np.loadtxt(btrack_path, dtype=int)\n",
    "else:\n",
    "    print('No btrack file, the whole chromatin is assumed to be open')\n",
    "    btrack = np.ones_like(positions)"
   ]
  },
  {
   "cell_type": "code",
   "execution_count": 47,
   "metadata": {},
   "outputs": [
    {
     "name": "stdout",
     "output_type": "stream",
     "text": [
      "[669.81621275 669.81621275]\n"
     ]
    }
   ],
   "source": [
    "total_bind_time = np.sum(df_occupancy.to_numpy(), axis=0)[1:] / ensemble_size\n",
    "total_bind_time = double_each_element(np.sum(total_bind_time.reshape(-1,2), axis=1))\n",
    "print(total_bind_time)"
   ]
  },
  {
   "cell_type": "code",
   "execution_count": 48,
   "metadata": {},
   "outputs": [],
   "source": [
    "def is_opened(bp_i, motif_len, btrack):\n",
    "    if np.sum(btrack[bp_i: bp_i+motif_len]) < motif_len:\n",
    "        return False\n",
    "    return True"
   ]
  },
  {
   "cell_type": "code",
   "execution_count": 49,
   "metadata": {},
   "outputs": [
    {
     "name": "stdout",
     "output_type": "stream",
     "text": [
      "[17.22987937 17.22987937]\n"
     ]
    }
   ],
   "source": [
    "#%% Probability of each energy\n",
    "tf_list = np.array(df_tf_data.index, dtype=str)\n",
    "tf_num = len(tf_list)\n",
    "tf_size = np.array([get_motif_size(df_tf_data.at[tf_list[i], MOTIF])\n",
    "                    + int(df_tf_data.at[tf_list[i], SIZE_LEFT])\n",
    "                    + int(df_tf_data.at[tf_list[i], SIZE_RIGHT]) for i in range(tf_num)], dtype=int)\n",
    "\n",
    "tf_list_2dir = df_site_energy.columns\n",
    "tf_num_2dir = len(tf_list_2dir)\n",
    "\n",
    "if tf_num != tf_num_2dir:\n",
    "    # 2 directions\n",
    "    both_dir = True\n",
    "    tf_size_2dir = double_each_element(tf_size)\n",
    "else:\n",
    "    # 1 direction\n",
    "    both_dir = False\n",
    "    tf_size_2dir = tf_size\n",
    "\n",
    "nonspecific_time = np.array(df_tf_data[NONSPEC_WAITING_TIME], dtype=float)\n",
    "if both_dir:\n",
    "    nonspecific_time = double_each_element(nonspecific_time)\n",
    "energy = np.array(df_site_energy.to_numpy().transpose())\n",
    "for tf_i in range(tf_num_2dir):\n",
    "    # last positions which TFs cannot reach\n",
    "    energy[tf_i,-tf_size_2dir[tf_i]+1:] = -np.inf\n",
    "    # closed dna regions\n",
    "    for bp_i in positions_i:\n",
    "        if not is_opened(bp_i, tf_size_2dir[tf_i], btrack):\n",
    "            energy[tf_i,bp_i] = -np.inf\n",
    "\n",
    "#energy_exponent = np.einsum('i,ij->ij', nonspecific_time, np.exp(energy)) / total_time\n",
    "energy_exponent = np.exp(energy)\n",
    "energy_exp_sum = np.zeros(tf_num_2dir)\n",
    "for tf_i in range(tf_num_2dir):\n",
    "    if both_dir:\n",
    "        #energy_exp_sum[tf_i] = np.sum(np.exp(energy[tf_i]))\n",
    "        ind = (tf_i // 2) * 2 # or tf_i - (tf_i%2)\n",
    "        for s in range(2):\n",
    "            sites_strand = df_target_sites.loc[df_target_sites.name_strand == tf_list_2dir[ind+s]].pos.to_numpy(dtype=int)\n",
    "            #energy_exp_sum[tf_i] += np.sum(np.exp(energy[ind+s][sites_strand]))\n",
    "            energy_exp_sum[tf_i] += np.sum(np.exp(energy[ind+s]))\n",
    "    else:\n",
    "        energy_exp_sum[tf_i] = np.sum(np.exp(energy[tf_i]))\n",
    "print(energy_exp_sum)\n",
    "energy_prob = np.einsum('i,ij->ij', 1/energy_exp_sum, energy_exponent)\n",
    "#energy_prob = energy_exponent / np.sum(energy_exponent)*2\n",
    "occupancy_from_exper = df_occupancy.to_numpy().transpose()[1:] / ensemble_size\n",
    "#occupancy_from_exper /= total_time\n",
    "occupancy_from_exper = np.einsum('i,ij->ij', 1/total_bind_time, occupancy_from_exper)"
   ]
  },
  {
   "cell_type": "code",
   "execution_count": 9,
   "metadata": {},
   "outputs": [
    {
     "name": "stdout",
     "output_type": "stream",
     "text": [
      "83\n"
     ]
    },
    {
     "data": {
      "image/png": "[encoded data removed]",
      "text/plain": [
       "<Figure size 1080x864 with 16 Axes>"
      ]
     },
     "metadata": {
      "needs_background": "light"
     },
     "output_type": "display_data"
    }
   ],
   "source": [
    "fig, ax = plt.subplots(4, 4, figsize=(15,12), tight_layout=True)\n",
    "snum = 0\n",
    "for tf_i in range(tf_num_2dir):\n",
    "    ax_i = ax[tf_i//4, tf_i%4]\n",
    "    sites = df_target_sites.loc[df_target_sites.name_strand == tf_list_2dir[tf_i]].pos.to_numpy(dtype=int)\n",
    "    #ax_i.ylabel('occupancy ($\\\\tau/\\\\tau_{total}$)')\n",
    "    #plt.xlabel('affinity ($e^{PWM}$)')\n",
    "    #ax_i.xlabel('equilibrium prob. ($e^{PWM} / Z$)')\n",
    "    snum += len(sites)\n",
    "    c = 'C0'# + str(tf_i)\n",
    "    ax_i.loglog(energy_prob[tf_i][sites], occupancy_from_exper[tf_i][sites], lw=0, ms=3, marker='.', c=c)\n",
    "    ax_i.plot([10**-8, 10**2], [10**-8, 10**2], c='k', lw=0.5)\n",
    "    lims = [10**-6, 10**0]\n",
    "    ax_i.set_xlim(lims)\n",
    "    ax_i.set_ylim(lims)\n",
    "    ax_i.set_title(tf_list_2dir[tf_i])\n",
    "print(snum)\n",
    "plt.show()"
   ]
  },
  {
   "cell_type": "code",
   "execution_count": 42,
   "metadata": {},
   "outputs": [
    {
     "name": "stdout",
     "output_type": "stream",
     "text": [
      "83\n"
     ]
    },
    {
     "data": {
      "image/png": "[encoded data removed]",
      "text/plain": [
       "<Figure size 576x288 with 2 Axes>"
      ]
     },
     "metadata": {
      "needs_background": "light"
     },
     "output_type": "display_data"
    }
   ],
   "source": [
    "fig, ax = plt.subplots(1, 2, figsize=(8,4), tight_layout=True)\n",
    "snum = 0\n",
    "for tf_i in range(tf_num_2dir):\n",
    "    ax_i = ax[tf_i%2]\n",
    "    sites = df_target_sites.loc[df_target_sites['name_strand'] == tf_list_2dir[tf_i]]['pos'].to_numpy(dtype=int)\n",
    "    #ax_i.ylabel('occupancy ($\\\\tau/\\\\tau_{total}$)')\n",
    "    #plt.xlabel('affinity ($e^{PWM}$)')\n",
    "    #ax_i.xlabel('equilibrium prob. ($e^{PWM} / Z$)')\n",
    "    snum += len(sites)\n",
    "    c = 'C0'# + str(tf_i)\n",
    "    ax_i.loglog(energy_prob[tf_i][sites], occupancy_from_exper[tf_i][sites], lw=0, ms=3, marker='.', c=c)\n",
    "    ax_i.plot([10**-8, 10**2], [10**-8, 10**2], c='k', lw=0.5)\n",
    "    lims = [10**-6, 10**0]\n",
    "    ax_i.set_xlim(lims)\n",
    "    ax_i.set_ylim(lims)\n",
    "    ax_i.set_title(tf_list_2dir[tf_i])\n",
    "print(snum)\n",
    "plt.show()"
   ]
  },
  {
   "cell_type": "code",
   "execution_count": 43,
   "metadata": {},
   "outputs": [],
   "source": [
    "fig.savefig(os.path.join(PROJ_DIR, FIG_DIR, 'kr_1_no_facilit.pdf'))"
   ]
  },
  {
   "cell_type": "code",
   "execution_count": 50,
   "metadata": {},
   "outputs": [
    {
     "name": "stdout",
     "output_type": "stream",
     "text": [
      "489\n"
     ]
    },
    {
     "data": {
      "image/png": "[encoded data removed]",
      "text/plain": [
       "<Figure size 576x288 with 2 Axes>"
      ]
     },
     "metadata": {
      "needs_background": "light"
     },
     "output_type": "display_data"
    }
   ],
   "source": [
    "fig, ax = plt.subplots(1, 2, figsize=(8,4), tight_layout=True)\n",
    "snum = 0\n",
    "for tf_i in range(tf_num_2dir):\n",
    "    ax_i = ax[tf_i%2]\n",
    "    sites = df_target_sites.loc[df_target_sites['name_strand'] == tf_list_2dir[tf_i]]['pos'].to_numpy(dtype=int)\n",
    "    #ax_i.ylabel('occupancy ($\\\\tau/\\\\tau_{total}$)')\n",
    "    #plt.xlabel('affinity ($e^{PWM}$)')\n",
    "    #ax_i.xlabel('equilibrium prob. ($e^{PWM} / Z$)')\n",
    "    snum += len(sites)\n",
    "    c = 'C0'# + str(tf_i)\n",
    "    ax_i.loglog(energy_prob[tf_i][sites], occupancy_from_exper[tf_i][sites], lw=0, ms=3, marker='.', c=c)\n",
    "    ax_i.plot([10**-8, 10**2], [10**-8, 10**2], c='k', lw=0.5)\n",
    "    lims = [10**-6, 10**0]\n",
    "    ax_i.set_xlim(lims)\n",
    "    ax_i.set_ylim(lims)\n",
    "    ax_i.set_title(tf_list_2dir[tf_i])\n",
    "print(snum)\n",
    "plt.show()"
   ]
  },
  {
   "cell_type": "code",
   "execution_count": 51,
   "metadata": {},
   "outputs": [],
   "source": [
    "fig.savefig(os.path.join(PROJ_DIR, FIG_DIR, 'hb_1_no_facilit.pdf'))"
   ]
  },
  {
   "cell_type": "code",
   "execution_count": 177,
   "metadata": {},
   "outputs": [
    {
     "data": {
      "text/plain": [
       "662"
      ]
     },
     "execution_count": 177,
     "metadata": {},
     "output_type": "execute_result"
    }
   ],
   "source": [
    "np.argmax(df_target_sites['energy'])"
   ]
  },
  {
   "cell_type": "code",
   "execution_count": 183,
   "metadata": {},
   "outputs": [],
   "source": [
    "df_target_sites_sorted = df_target_sites.sort_values('energy', ascending=False)"
   ]
  },
  {
   "cell_type": "code",
   "execution_count": null,
   "metadata": {},
   "outputs": [
    {
     "data": {
      "image/png": "[encoded data removed]",
      "text/plain": [
       "<Figure size 252x216 with 1 Axes>"
      ]
     },
     "metadata": {},
     "output_type": "display_data"
    }
   ],
   "source": [
    "fig, ax = plt.subplots(1, 1, figsize=(3.5,3), tight_layout=True)\n",
    "for tf_i in range(tf_num_2dir):\n",
    "    sites = df_target_sites.loc[df_target_sites['name_strand'] == tf_list_2dir[tf_i]]['pos'].to_numpy(dtype=int)\n",
    "    plt.ylabel('occupancy ($\\\\tau/\\\\tau_{total}$)')\n",
    "    #plt.xlabel('affinity ($e^{PWM}$)')\n",
    "    plt.xlabel('equilibrium prob. ($e^{PWM} / Z$)')\n",
    "    plt.loglog(energy_exponent[tf_i][sites] / energy_exp_sum[tf_i], occupancy_from_exper[tf_i][sites], \n",
    "               lw=0, ms=3, marker='.', c='C0')\n",
    "    plt.plot([10**-8, 10**2], [10**-8, 10**2], c='k', lw=0.5)\n",
    "\n",
    "lims = [10**-5, 10**0]\n",
    "plt.xlim(lims)\n",
    "plt.ylim(lims)\n",
    "plt.show()"
   ]
  },
  {
   "cell_type": "code",
   "execution_count": null,
   "metadata": {},
   "outputs": [],
   "source": [
    "fig.savefig(os.path.join(PROJ_DIR, FIG_DIR, 'drosoph_kr_occupancy_vs_affinity.pdf'))"
   ]
  },
  {
   "cell_type": "code",
   "execution_count": null,
   "metadata": {},
   "outputs": [],
   "source": [
    "fig.savefig(os.path.join(PROJ_DIR, FIG_DIR, 'drosoph_kr_no_repr_occupancy_vs_affinity.pdf'))"
   ]
  },
  {
   "cell_type": "code",
   "execution_count": null,
   "metadata": {},
   "outputs": [],
   "source": [
    "energy_flat = []\n",
    "occupancy_flat = []\n",
    "for tf_i in range(tf_num_2dir):\n",
    "    sites = df_target_sites.loc[df_target_sites['name_strand'] == tf_list_2dir[tf_i]]['pos'].to_numpy(dtype=int)\n",
    "    idx_to_add = occupancy_from_exper[tf_i][sites] > 10**-4\n",
    "    energy_flat.extend(energy[tf_i][sites][idx_to_add])\n",
    "    occupancy_flat.extend(occupancy_from_exper[tf_i][sites][idx_to_add])\n",
    "energy_flat = np.array(energy_flat)\n",
    "occupancy_flat = np.array(occupancy_flat)"
   ]
  },
  {
   "cell_type": "code",
   "execution_count": null,
   "metadata": {},
   "outputs": [
    {
     "data": {
      "text/plain": [
       "[<matplotlib.lines.Line2D at 0x7f007d062430>]"
      ]
     },
     "metadata": {},
     "output_type": "display_data"
    },
    {
     "data": {
      "image/png": "[encoded data removed]",
      "text/plain": [
       "<Figure size 432x288 with 1 Axes>"
      ]
     },
     "metadata": {},
     "output_type": "display_data"
    }
   ],
   "source": [
    "plt.plot(-energy_flat, occupancy_flat, lw=0, ms=3, marker='.')"
   ]
  },
  {
   "cell_type": "code",
   "execution_count": null,
   "metadata": {},
   "outputs": [
    {
     "data": {
      "text/plain": [
       "[<matplotlib.lines.Line2D at 0x7fe17183cb80>]"
      ]
     },
     "metadata": {},
     "output_type": "display_data"
    },
    {
     "data": {
      "image/png": "[encoded data removed]",
      "text/plain": [
       "<Figure size 432x288 with 1 Axes>"
      ]
     },
     "metadata": {},
     "output_type": "display_data"
    }
   ],
   "source": [
    "plt.plot(-energy_flat, occupancy_flat, lw=0, ms=3, marker='.')"
   ]
  },
  {
   "cell_type": "code",
   "execution_count": 61,
   "metadata": {},
   "outputs": [
    {
     "data": {
      "text/plain": [
       "Index(['Kr5'3'', 'Kr3'5''], dtype='object')"
      ]
     },
     "execution_count": 61,
     "metadata": {},
     "output_type": "execute_result"
    }
   ],
   "source": [
    "df_occupancy.columns[[1,2]]"
   ]
  },
  {
   "cell_type": "code",
   "execution_count": 120,
   "metadata": {},
   "outputs": [
    {
     "data": {
      "image/png": "[encoded data removed]",
      "text/plain": [
       "<Figure size 1440x288 with 1 Axes>"
      ]
     },
     "metadata": {
      "needs_background": "light"
     },
     "output_type": "display_data"
    }
   ],
   "source": [
    "fig, ax = plt.subplots(1, 1, figsize=(20,4))\n",
    "ax.set_title('Average occupancy time')\n",
    "ax.set_ylabel('occupancy time (s)')\n",
    "for tf_i in range(1):\n",
    "    tf = df_occupancy.columns[1+tf_i]\n",
    "    ax.plot(positions, df_occupancy[tf]/ensemble_size, label=tf)\n",
    "    #df_occupancy.plot(y=[i for i in range(1,2)], ax=ax)\n",
    "    ax.plot(positions, 5*energy_prob[tf_i], alpha=1, label='energy prob.')\n",
    "ax.plot(positions, -btrack, c='k', alpha=0.5, label='open chromatin')\n",
    "ax.set_xticks(np.linspace(positions[0], positions[-1], 19))\n",
    "ax.legend()\n",
    "ax.set_xlim([-4000, 0])\n",
    "log=True\n",
    "if log:\n",
    "    ax.set_yscale('log')\n",
    "    ax.set_ylim([10**-5, 10])\n",
    "    ax.plot(positions, 10-9.9*btrack, c='k', alpha=0.5, label='open chromatin')\n",
    "plt.show()"
   ]
  },
  {
   "cell_type": "code",
   "execution_count": 98,
   "metadata": {},
   "outputs": [
    {
     "name": "stdout",
     "output_type": "stream",
     "text": [
      "-7418 527 -6891\n",
      "-3995 48 -3947\n",
      "-3887 666 -3221\n",
      "-3192 58 -3134\n",
      "-3100 38 -3062\n",
      "-3042 83 -2959\n",
      "-2929 192 -2737\n",
      "-2691 184 -2507\n",
      "-2492 227 -2265\n",
      "-2225 76 -2149\n",
      "-2129 35 -2094\n",
      "-2070 289 -1781\n",
      "-1725 124 -1601\n",
      "-1580 83 -1497\n",
      "-1436 1466 30\n",
      "81 32 113\n",
      "929 30 959\n",
      "3724 29 3753\n",
      "4786 20 4806\n"
     ]
    }
   ],
   "source": [
    "open_len = 0\n",
    "for i, bp_status in enumerate(btrack):\n",
    "    open_len += bp_status\n",
    "    if bp_status == 0 and open_len > 0:\n",
    "        print(positions[i]-open_len, open_len, positions[i])\n",
    "        open_len = 0"
   ]
  },
  {
   "cell_type": "code",
   "execution_count": 25,
   "metadata": {},
   "outputs": [
    {
     "data": {
      "text/html": [
       "<div>\n",
       "<style scoped>\n",
       "    .dataframe tbody tr th:only-of-type {\n",
       "        vertical-align: middle;\n",
       "    }\n",
       "\n",
       "    .dataframe tbody tr th {\n",
       "        vertical-align: top;\n",
       "    }\n",
       "\n",
       "    .dataframe thead th {\n",
       "        text-align: right;\n",
       "    }\n",
       "</style>\n",
       "<table border=\"1\" class=\"dataframe\">\n",
       "  <thead>\n",
       "    <tr style=\"text-align: right;\">\n",
       "      <th></th>\n",
       "      <th>Kr5'3'</th>\n",
       "      <th>Kr3'5'</th>\n",
       "      <th>hb5'3'</th>\n",
       "      <th>hb3'5'</th>\n",
       "      <th>gt5'3'</th>\n",
       "      <th>gt3'5'</th>\n",
       "      <th>kni5'3'</th>\n",
       "      <th>kni3'5'</th>\n",
       "      <th>bcd5'3'</th>\n",
       "      <th>bcd3'5'</th>\n",
       "      <th>cad5'3'</th>\n",
       "      <th>cad3'5'</th>\n",
       "      <th>tll5'3'</th>\n",
       "      <th>tll3'5'</th>\n",
       "      <th>hkb5'3'</th>\n",
       "      <th>hkb3'5'</th>\n",
       "    </tr>\n",
       "    <tr>\n",
       "      <th>position</th>\n",
       "      <th></th>\n",
       "      <th></th>\n",
       "      <th></th>\n",
       "      <th></th>\n",
       "      <th></th>\n",
       "      <th></th>\n",
       "      <th></th>\n",
       "      <th></th>\n",
       "      <th></th>\n",
       "      <th></th>\n",
       "      <th></th>\n",
       "      <th></th>\n",
       "      <th></th>\n",
       "      <th></th>\n",
       "      <th></th>\n",
       "      <th></th>\n",
       "    </tr>\n",
       "  </thead>\n",
       "  <tbody>\n",
       "    <tr>\n",
       "      <th>0</th>\n",
       "      <td>-11.6886</td>\n",
       "      <td>-15.9445</td>\n",
       "      <td>-29.3857</td>\n",
       "      <td>-16.1934</td>\n",
       "      <td>-31.7303</td>\n",
       "      <td>-16.8469</td>\n",
       "      <td>-17.7806</td>\n",
       "      <td>-11.9107</td>\n",
       "      <td>-10.6858</td>\n",
       "      <td>-10.5983</td>\n",
       "      <td>-15.2363</td>\n",
       "      <td>-21.5151</td>\n",
       "      <td>-26.6436</td>\n",
       "      <td>-16.9033</td>\n",
       "      <td>-21.5950</td>\n",
       "      <td>-14.1750</td>\n",
       "    </tr>\n",
       "    <tr>\n",
       "      <th>1</th>\n",
       "      <td>-12.2086</td>\n",
       "      <td>-19.6698</td>\n",
       "      <td>-24.2660</td>\n",
       "      <td>-18.1241</td>\n",
       "      <td>-20.6823</td>\n",
       "      <td>-18.9304</td>\n",
       "      <td>-22.5690</td>\n",
       "      <td>-21.1310</td>\n",
       "      <td>-17.6363</td>\n",
       "      <td>-17.4867</td>\n",
       "      <td>-18.3426</td>\n",
       "      <td>-19.4584</td>\n",
       "      <td>-24.0087</td>\n",
       "      <td>-17.9447</td>\n",
       "      <td>-26.4507</td>\n",
       "      <td>-21.3547</td>\n",
       "    </tr>\n",
       "    <tr>\n",
       "      <th>2</th>\n",
       "      <td>-10.9674</td>\n",
       "      <td>-27.1959</td>\n",
       "      <td>-24.7377</td>\n",
       "      <td>-16.7245</td>\n",
       "      <td>-21.0660</td>\n",
       "      <td>-24.2276</td>\n",
       "      <td>-27.8003</td>\n",
       "      <td>-20.7559</td>\n",
       "      <td>-22.7461</td>\n",
       "      <td>-11.8643</td>\n",
       "      <td>-15.1827</td>\n",
       "      <td>-15.3856</td>\n",
       "      <td>-18.8917</td>\n",
       "      <td>-7.9560</td>\n",
       "      <td>-14.5377</td>\n",
       "      <td>-20.5421</td>\n",
       "    </tr>\n",
       "    <tr>\n",
       "      <th>3</th>\n",
       "      <td>-17.4338</td>\n",
       "      <td>-27.0725</td>\n",
       "      <td>-24.5585</td>\n",
       "      <td>-15.6414</td>\n",
       "      <td>-25.4701</td>\n",
       "      <td>-23.4955</td>\n",
       "      <td>-27.9048</td>\n",
       "      <td>-20.4671</td>\n",
       "      <td>-20.3297</td>\n",
       "      <td>-17.4115</td>\n",
       "      <td>-16.7822</td>\n",
       "      <td>-18.8332</td>\n",
       "      <td>-19.6114</td>\n",
       "      <td>-12.3936</td>\n",
       "      <td>-18.6443</td>\n",
       "      <td>-29.0087</td>\n",
       "    </tr>\n",
       "    <tr>\n",
       "      <th>4</th>\n",
       "      <td>-20.6411</td>\n",
       "      <td>-18.6009</td>\n",
       "      <td>-25.9883</td>\n",
       "      <td>-10.4498</td>\n",
       "      <td>-29.2267</td>\n",
       "      <td>-17.7223</td>\n",
       "      <td>-23.2482</td>\n",
       "      <td>-13.1851</td>\n",
       "      <td>-18.8001</td>\n",
       "      <td>-15.9114</td>\n",
       "      <td>-12.4774</td>\n",
       "      <td>-18.4211</td>\n",
       "      <td>-20.2307</td>\n",
       "      <td>-21.7764</td>\n",
       "      <td>-23.5593</td>\n",
       "      <td>-25.0294</td>\n",
       "    </tr>\n",
       "    <tr>\n",
       "      <th>...</th>\n",
       "      <td>...</td>\n",
       "      <td>...</td>\n",
       "      <td>...</td>\n",
       "      <td>...</td>\n",
       "      <td>...</td>\n",
       "      <td>...</td>\n",
       "      <td>...</td>\n",
       "      <td>...</td>\n",
       "      <td>...</td>\n",
       "      <td>...</td>\n",
       "      <td>...</td>\n",
       "      <td>...</td>\n",
       "      <td>...</td>\n",
       "      <td>...</td>\n",
       "      <td>...</td>\n",
       "      <td>...</td>\n",
       "    </tr>\n",
       "    <tr>\n",
       "      <th>17996</th>\n",
       "      <td>0.0000</td>\n",
       "      <td>0.0000</td>\n",
       "      <td>0.0000</td>\n",
       "      <td>0.0000</td>\n",
       "      <td>0.0000</td>\n",
       "      <td>0.0000</td>\n",
       "      <td>0.0000</td>\n",
       "      <td>0.0000</td>\n",
       "      <td>0.0000</td>\n",
       "      <td>0.0000</td>\n",
       "      <td>0.0000</td>\n",
       "      <td>0.0000</td>\n",
       "      <td>0.0000</td>\n",
       "      <td>0.0000</td>\n",
       "      <td>0.0000</td>\n",
       "      <td>0.0000</td>\n",
       "    </tr>\n",
       "    <tr>\n",
       "      <th>17997</th>\n",
       "      <td>0.0000</td>\n",
       "      <td>0.0000</td>\n",
       "      <td>0.0000</td>\n",
       "      <td>0.0000</td>\n",
       "      <td>0.0000</td>\n",
       "      <td>0.0000</td>\n",
       "      <td>0.0000</td>\n",
       "      <td>0.0000</td>\n",
       "      <td>0.0000</td>\n",
       "      <td>0.0000</td>\n",
       "      <td>0.0000</td>\n",
       "      <td>0.0000</td>\n",
       "      <td>0.0000</td>\n",
       "      <td>0.0000</td>\n",
       "      <td>0.0000</td>\n",
       "      <td>0.0000</td>\n",
       "    </tr>\n",
       "    <tr>\n",
       "      <th>17998</th>\n",
       "      <td>0.0000</td>\n",
       "      <td>0.0000</td>\n",
       "      <td>0.0000</td>\n",
       "      <td>0.0000</td>\n",
       "      <td>0.0000</td>\n",
       "      <td>0.0000</td>\n",
       "      <td>0.0000</td>\n",
       "      <td>0.0000</td>\n",
       "      <td>0.0000</td>\n",
       "      <td>0.0000</td>\n",
       "      <td>0.0000</td>\n",
       "      <td>0.0000</td>\n",
       "      <td>0.0000</td>\n",
       "      <td>0.0000</td>\n",
       "      <td>0.0000</td>\n",
       "      <td>0.0000</td>\n",
       "    </tr>\n",
       "    <tr>\n",
       "      <th>17999</th>\n",
       "      <td>0.0000</td>\n",
       "      <td>0.0000</td>\n",
       "      <td>0.0000</td>\n",
       "      <td>0.0000</td>\n",
       "      <td>0.0000</td>\n",
       "      <td>0.0000</td>\n",
       "      <td>0.0000</td>\n",
       "      <td>0.0000</td>\n",
       "      <td>0.0000</td>\n",
       "      <td>0.0000</td>\n",
       "      <td>0.0000</td>\n",
       "      <td>0.0000</td>\n",
       "      <td>0.0000</td>\n",
       "      <td>0.0000</td>\n",
       "      <td>0.0000</td>\n",
       "      <td>0.0000</td>\n",
       "    </tr>\n",
       "    <tr>\n",
       "      <th>18000</th>\n",
       "      <td>0.0000</td>\n",
       "      <td>0.0000</td>\n",
       "      <td>0.0000</td>\n",
       "      <td>0.0000</td>\n",
       "      <td>0.0000</td>\n",
       "      <td>0.0000</td>\n",
       "      <td>0.0000</td>\n",
       "      <td>0.0000</td>\n",
       "      <td>0.0000</td>\n",
       "      <td>0.0000</td>\n",
       "      <td>0.0000</td>\n",
       "      <td>0.0000</td>\n",
       "      <td>0.0000</td>\n",
       "      <td>0.0000</td>\n",
       "      <td>0.0000</td>\n",
       "      <td>0.0000</td>\n",
       "    </tr>\n",
       "  </tbody>\n",
       "</table>\n",
       "<p>18001 rows × 16 columns</p>\n",
       "</div>"
      ],
      "text/plain": [
       "           Kr5'3'   Kr3'5'   hb5'3'   hb3'5'   gt5'3'   gt3'5'  kni5'3'  \\\n",
       "position                                                                  \n",
       "0        -11.6886 -15.9445 -29.3857 -16.1934 -31.7303 -16.8469 -17.7806   \n",
       "1        -12.2086 -19.6698 -24.2660 -18.1241 -20.6823 -18.9304 -22.5690   \n",
       "2        -10.9674 -27.1959 -24.7377 -16.7245 -21.0660 -24.2276 -27.8003   \n",
       "3        -17.4338 -27.0725 -24.5585 -15.6414 -25.4701 -23.4955 -27.9048   \n",
       "4        -20.6411 -18.6009 -25.9883 -10.4498 -29.2267 -17.7223 -23.2482   \n",
       "...           ...      ...      ...      ...      ...      ...      ...   \n",
       "17996      0.0000   0.0000   0.0000   0.0000   0.0000   0.0000   0.0000   \n",
       "17997      0.0000   0.0000   0.0000   0.0000   0.0000   0.0000   0.0000   \n",
       "17998      0.0000   0.0000   0.0000   0.0000   0.0000   0.0000   0.0000   \n",
       "17999      0.0000   0.0000   0.0000   0.0000   0.0000   0.0000   0.0000   \n",
       "18000      0.0000   0.0000   0.0000   0.0000   0.0000   0.0000   0.0000   \n",
       "\n",
       "          kni3'5'  bcd5'3'  bcd3'5'  cad5'3'  cad3'5'  tll5'3'  tll3'5'  \\\n",
       "position                                                                  \n",
       "0        -11.9107 -10.6858 -10.5983 -15.2363 -21.5151 -26.6436 -16.9033   \n",
       "1        -21.1310 -17.6363 -17.4867 -18.3426 -19.4584 -24.0087 -17.9447   \n",
       "2        -20.7559 -22.7461 -11.8643 -15.1827 -15.3856 -18.8917  -7.9560   \n",
       "3        -20.4671 -20.3297 -17.4115 -16.7822 -18.8332 -19.6114 -12.3936   \n",
       "4        -13.1851 -18.8001 -15.9114 -12.4774 -18.4211 -20.2307 -21.7764   \n",
       "...           ...      ...      ...      ...      ...      ...      ...   \n",
       "17996      0.0000   0.0000   0.0000   0.0000   0.0000   0.0000   0.0000   \n",
       "17997      0.0000   0.0000   0.0000   0.0000   0.0000   0.0000   0.0000   \n",
       "17998      0.0000   0.0000   0.0000   0.0000   0.0000   0.0000   0.0000   \n",
       "17999      0.0000   0.0000   0.0000   0.0000   0.0000   0.0000   0.0000   \n",
       "18000      0.0000   0.0000   0.0000   0.0000   0.0000   0.0000   0.0000   \n",
       "\n",
       "          hkb5'3'  hkb3'5'  \n",
       "position                    \n",
       "0        -21.5950 -14.1750  \n",
       "1        -26.4507 -21.3547  \n",
       "2        -14.5377 -20.5421  \n",
       "3        -18.6443 -29.0087  \n",
       "4        -23.5593 -25.0294  \n",
       "...           ...      ...  \n",
       "17996      0.0000   0.0000  \n",
       "17997      0.0000   0.0000  \n",
       "17998      0.0000   0.0000  \n",
       "17999      0.0000   0.0000  \n",
       "18000      0.0000   0.0000  \n",
       "\n",
       "[18001 rows x 16 columns]"
      ]
     },
     "execution_count": 25,
     "metadata": {},
     "output_type": "execute_result"
    }
   ],
   "source": [
    "df_site_energy"
   ]
  },
  {
   "cell_type": "code",
   "execution_count": 2,
   "metadata": {},
   "outputs": [
    {
     "data": {
      "text/html": [
       "<div>\n",
       "<style scoped>\n",
       "    .dataframe tbody tr th:only-of-type {\n",
       "        vertical-align: middle;\n",
       "    }\n",
       "\n",
       "    .dataframe tbody tr th {\n",
       "        vertical-align: top;\n",
       "    }\n",
       "\n",
       "    .dataframe thead th {\n",
       "        text-align: right;\n",
       "    }\n",
       "</style>\n",
       "<table border=\"1\" class=\"dataframe\">\n",
       "  <thead>\n",
       "    <tr style=\"text-align: right;\">\n",
       "      <th></th>\n",
       "      <th>repressor</th>\n",
       "      <th>name</th>\n",
       "      <th>name_strand</th>\n",
       "      <th>pos</th>\n",
       "      <th>size</th>\n",
       "      <th>strand</th>\n",
       "      <th>energy</th>\n",
       "    </tr>\n",
       "  </thead>\n",
       "  <tbody>\n",
       "    <tr>\n",
       "      <th>0</th>\n",
       "      <td>False</td>\n",
       "      <td>bcd</td>\n",
       "      <td>bcd5'3'</td>\n",
       "      <td>14</td>\n",
       "      <td>8</td>\n",
       "      <td>0</td>\n",
       "      <td>11.9074</td>\n",
       "    </tr>\n",
       "    <tr>\n",
       "      <th>1</th>\n",
       "      <td>False</td>\n",
       "      <td>gt</td>\n",
       "      <td>gt3'5'</td>\n",
       "      <td>14</td>\n",
       "      <td>13</td>\n",
       "      <td>1</td>\n",
       "      <td>24.1155</td>\n",
       "    </tr>\n",
       "    <tr>\n",
       "      <th>2</th>\n",
       "      <td>False</td>\n",
       "      <td>cad</td>\n",
       "      <td>cad3'5'</td>\n",
       "      <td>19</td>\n",
       "      <td>11</td>\n",
       "      <td>1</td>\n",
       "      <td>23.5160</td>\n",
       "    </tr>\n",
       "    <tr>\n",
       "      <th>3</th>\n",
       "      <td>False</td>\n",
       "      <td>gt</td>\n",
       "      <td>gt3'5'</td>\n",
       "      <td>33</td>\n",
       "      <td>13</td>\n",
       "      <td>1</td>\n",
       "      <td>19.4095</td>\n",
       "    </tr>\n",
       "    <tr>\n",
       "      <th>4</th>\n",
       "      <td>False</td>\n",
       "      <td>hb</td>\n",
       "      <td>hb5'3'</td>\n",
       "      <td>50</td>\n",
       "      <td>11</td>\n",
       "      <td>0</td>\n",
       "      <td>13.0408</td>\n",
       "    </tr>\n",
       "    <tr>\n",
       "      <th>...</th>\n",
       "      <td>...</td>\n",
       "      <td>...</td>\n",
       "      <td>...</td>\n",
       "      <td>...</td>\n",
       "      <td>...</td>\n",
       "      <td>...</td>\n",
       "      <td>...</td>\n",
       "    </tr>\n",
       "    <tr>\n",
       "      <th>1219</th>\n",
       "      <td>False</td>\n",
       "      <td>hb</td>\n",
       "      <td>hb3'5'</td>\n",
       "      <td>17858</td>\n",
       "      <td>11</td>\n",
       "      <td>1</td>\n",
       "      <td>15.3219</td>\n",
       "    </tr>\n",
       "    <tr>\n",
       "      <th>1220</th>\n",
       "      <td>False</td>\n",
       "      <td>gt</td>\n",
       "      <td>gt3'5'</td>\n",
       "      <td>17860</td>\n",
       "      <td>13</td>\n",
       "      <td>1</td>\n",
       "      <td>21.8241</td>\n",
       "    </tr>\n",
       "    <tr>\n",
       "      <th>1221</th>\n",
       "      <td>False</td>\n",
       "      <td>gt</td>\n",
       "      <td>gt3'5'</td>\n",
       "      <td>17894</td>\n",
       "      <td>13</td>\n",
       "      <td>1</td>\n",
       "      <td>14.4808</td>\n",
       "    </tr>\n",
       "    <tr>\n",
       "      <th>1222</th>\n",
       "      <td>False</td>\n",
       "      <td>hb</td>\n",
       "      <td>hb5'3'</td>\n",
       "      <td>17987</td>\n",
       "      <td>11</td>\n",
       "      <td>0</td>\n",
       "      <td>0.0000</td>\n",
       "    </tr>\n",
       "    <tr>\n",
       "      <th>1223</th>\n",
       "      <td>False</td>\n",
       "      <td>hb</td>\n",
       "      <td>hb5'3'</td>\n",
       "      <td>17989</td>\n",
       "      <td>11</td>\n",
       "      <td>0</td>\n",
       "      <td>0.0000</td>\n",
       "    </tr>\n",
       "  </tbody>\n",
       "</table>\n",
       "<p>1224 rows × 7 columns</p>\n",
       "</div>"
      ],
      "text/plain": [
       "     repressor name name_strand    pos size strand   energy\n",
       "0        False  bcd     bcd5'3'     14    8      0  11.9074\n",
       "1        False   gt      gt3'5'     14   13      1  24.1155\n",
       "2        False  cad     cad3'5'     19   11      1  23.5160\n",
       "3        False   gt      gt3'5'     33   13      1  19.4095\n",
       "4        False   hb      hb5'3'     50   11      0  13.0408\n",
       "...        ...  ...         ...    ...  ...    ...      ...\n",
       "1219     False   hb      hb3'5'  17858   11      1  15.3219\n",
       "1220     False   gt      gt3'5'  17860   13      1  21.8241\n",
       "1221     False   gt      gt3'5'  17894   13      1  14.4808\n",
       "1222     False   hb      hb5'3'  17987   11      0   0.0000\n",
       "1223     False   hb      hb5'3'  17989   11      0   0.0000\n",
       "\n",
       "[1224 rows x 7 columns]"
      ]
     },
     "execution_count": 2,
     "metadata": {},
     "output_type": "execute_result"
    }
   ],
   "source": [
    "df_target_sites"
   ]
  },
  {
   "cell_type": "code",
   "execution_count": 3,
   "metadata": {},
   "outputs": [],
   "source": [
    "# load master file\n",
    "master_dir = os.path.join(PROJ_DIR, 'biodata', 'drosophila_master')\n",
    "master_file = os.path.join(master_dir, 'result_upstream12k_downstream6k_hkbadd.xls')\n",
    "dict_master = pd.read_excel(master_file, sheet_name=None)"
   ]
  },
  {
   "cell_type": "code",
   "execution_count": 4,
   "metadata": {},
   "outputs": [
    {
     "data": {
      "text/html": [
       "<div>\n",
       "<style scoped>\n",
       "    .dataframe tbody tr th:only-of-type {\n",
       "        vertical-align: middle;\n",
       "    }\n",
       "\n",
       "    .dataframe tbody tr th {\n",
       "        vertical-align: top;\n",
       "    }\n",
       "\n",
       "    .dataframe thead th {\n",
       "        text-align: right;\n",
       "    }\n",
       "</style>\n",
       "<table border=\"1\" class=\"dataframe\">\n",
       "  <thead>\n",
       "    <tr style=\"text-align: right;\">\n",
       "      <th></th>\n",
       "      <th>tf</th>\n",
       "      <th>PWM score</th>\n",
       "      <th>chromosome</th>\n",
       "      <th>glob. start</th>\n",
       "      <th>glob. end</th>\n",
       "      <th>glob. strand</th>\n",
       "      <th>glob. word</th>\n",
       "      <th>loc. start</th>\n",
       "      <th>loc. end</th>\n",
       "      <th>loc. strand</th>\n",
       "      <th>loc. word</th>\n",
       "      <th>best cluster P-value</th>\n",
       "      <th>ChIP-Seq peak height</th>\n",
       "      <th>overlaps rep. constructs</th>\n",
       "      <th>overlaps DNAse acc. regions</th>\n",
       "      <th>hits neighboring genes</th>\n",
       "    </tr>\n",
       "  </thead>\n",
       "  <tbody>\n",
       "    <tr>\n",
       "      <th>0</th>\n",
       "      <td>bcd</td>\n",
       "      <td>3.990082</td>\n",
       "      <td>chr2R</td>\n",
       "      <td>21102151</td>\n",
       "      <td>21102158</td>\n",
       "      <td>+</td>\n",
       "      <td>GTATTAG</td>\n",
       "      <td>-11986</td>\n",
       "      <td>-11979</td>\n",
       "      <td>+</td>\n",
       "      <td>GTATTAG</td>\n",
       "      <td>0.747875</td>\n",
       "      <td>0.000</td>\n",
       "      <td>no</td>\n",
       "      <td>no</td>\n",
       "      <td>no</td>\n",
       "    </tr>\n",
       "    <tr>\n",
       "      <th>1</th>\n",
       "      <td>bcd</td>\n",
       "      <td>4.075856</td>\n",
       "      <td>chr2R</td>\n",
       "      <td>21102558</td>\n",
       "      <td>21102565</td>\n",
       "      <td>-</td>\n",
       "      <td>AAAATCC</td>\n",
       "      <td>-11579</td>\n",
       "      <td>-11572</td>\n",
       "      <td>-</td>\n",
       "      <td>AAAATCC</td>\n",
       "      <td>0.943873</td>\n",
       "      <td>0.013</td>\n",
       "      <td>no</td>\n",
       "      <td>no</td>\n",
       "      <td>no</td>\n",
       "    </tr>\n",
       "    <tr>\n",
       "      <th>2</th>\n",
       "      <td>bcd</td>\n",
       "      <td>5.745742</td>\n",
       "      <td>chr2R</td>\n",
       "      <td>21104551</td>\n",
       "      <td>21104558</td>\n",
       "      <td>-</td>\n",
       "      <td>TTAATCT</td>\n",
       "      <td>-9586</td>\n",
       "      <td>-9579</td>\n",
       "      <td>-</td>\n",
       "      <td>TTAATCT</td>\n",
       "      <td>2.116179</td>\n",
       "      <td>0.000</td>\n",
       "      <td>no</td>\n",
       "      <td>no</td>\n",
       "      <td>no</td>\n",
       "    </tr>\n",
       "    <tr>\n",
       "      <th>3</th>\n",
       "      <td>bcd</td>\n",
       "      <td>6.465945</td>\n",
       "      <td>chr2R</td>\n",
       "      <td>21104567</td>\n",
       "      <td>21104574</td>\n",
       "      <td>-</td>\n",
       "      <td>CTAATCT</td>\n",
       "      <td>-9570</td>\n",
       "      <td>-9563</td>\n",
       "      <td>-</td>\n",
       "      <td>CTAATCT</td>\n",
       "      <td>2.116179</td>\n",
       "      <td>0.000</td>\n",
       "      <td>no</td>\n",
       "      <td>no</td>\n",
       "      <td>no</td>\n",
       "    </tr>\n",
       "    <tr>\n",
       "      <th>4</th>\n",
       "      <td>bcd</td>\n",
       "      <td>5.062177</td>\n",
       "      <td>chr2R</td>\n",
       "      <td>21104715</td>\n",
       "      <td>21104722</td>\n",
       "      <td>-</td>\n",
       "      <td>CTAATTC</td>\n",
       "      <td>-9422</td>\n",
       "      <td>-9415</td>\n",
       "      <td>-</td>\n",
       "      <td>CTAATTC</td>\n",
       "      <td>0.992124</td>\n",
       "      <td>0.000</td>\n",
       "      <td>no</td>\n",
       "      <td>no</td>\n",
       "      <td>no</td>\n",
       "    </tr>\n",
       "    <tr>\n",
       "      <th>...</th>\n",
       "      <td>...</td>\n",
       "      <td>...</td>\n",
       "      <td>...</td>\n",
       "      <td>...</td>\n",
       "      <td>...</td>\n",
       "      <td>...</td>\n",
       "      <td>...</td>\n",
       "      <td>...</td>\n",
       "      <td>...</td>\n",
       "      <td>...</td>\n",
       "      <td>...</td>\n",
       "      <td>...</td>\n",
       "      <td>...</td>\n",
       "      <td>...</td>\n",
       "      <td>...</td>\n",
       "      <td>...</td>\n",
       "    </tr>\n",
       "    <tr>\n",
       "      <th>1219</th>\n",
       "      <td>gt</td>\n",
       "      <td>4.480987</td>\n",
       "      <td>chr2R</td>\n",
       "      <td>21119712</td>\n",
       "      <td>21119724</td>\n",
       "      <td>+</td>\n",
       "      <td>aatgggtaacac</td>\n",
       "      <td>5575</td>\n",
       "      <td>5587</td>\n",
       "      <td>+</td>\n",
       "      <td>aatgggtaacac</td>\n",
       "      <td>3.459304</td>\n",
       "      <td>0.047</td>\n",
       "      <td>no</td>\n",
       "      <td>no</td>\n",
       "      <td>no</td>\n",
       "    </tr>\n",
       "    <tr>\n",
       "      <th>1220</th>\n",
       "      <td>gt</td>\n",
       "      <td>7.484714</td>\n",
       "      <td>chr2R</td>\n",
       "      <td>21119732</td>\n",
       "      <td>21119744</td>\n",
       "      <td>+</td>\n",
       "      <td>aatatgtaagaa</td>\n",
       "      <td>5595</td>\n",
       "      <td>5607</td>\n",
       "      <td>+</td>\n",
       "      <td>aatatgtaagaa</td>\n",
       "      <td>3.459304</td>\n",
       "      <td>0.020</td>\n",
       "      <td>no</td>\n",
       "      <td>no</td>\n",
       "      <td>no</td>\n",
       "    </tr>\n",
       "    <tr>\n",
       "      <th>1221</th>\n",
       "      <td>gt</td>\n",
       "      <td>3.887716</td>\n",
       "      <td>chr2R</td>\n",
       "      <td>21119926</td>\n",
       "      <td>21119938</td>\n",
       "      <td>+</td>\n",
       "      <td>ATAACGCATAAC</td>\n",
       "      <td>5789</td>\n",
       "      <td>5801</td>\n",
       "      <td>+</td>\n",
       "      <td>ATAACGCATAAC</td>\n",
       "      <td>1.674795</td>\n",
       "      <td>0.053</td>\n",
       "      <td>no</td>\n",
       "      <td>no</td>\n",
       "      <td>no</td>\n",
       "    </tr>\n",
       "    <tr>\n",
       "      <th>1222</th>\n",
       "      <td>gt</td>\n",
       "      <td>4.059812</td>\n",
       "      <td>chr2R</td>\n",
       "      <td>21119997</td>\n",
       "      <td>21120009</td>\n",
       "      <td>-</td>\n",
       "      <td>TTCTTGCTGTTT</td>\n",
       "      <td>5860</td>\n",
       "      <td>5872</td>\n",
       "      <td>-</td>\n",
       "      <td>TTCTTGCTGTTT</td>\n",
       "      <td>1.868152</td>\n",
       "      <td>0.047</td>\n",
       "      <td>no</td>\n",
       "      <td>no</td>\n",
       "      <td>no</td>\n",
       "    </tr>\n",
       "    <tr>\n",
       "      <th>1223</th>\n",
       "      <td>gt</td>\n",
       "      <td>5.949660</td>\n",
       "      <td>chr2R</td>\n",
       "      <td>21120031</td>\n",
       "      <td>21120043</td>\n",
       "      <td>-</td>\n",
       "      <td>TTTTTATATATC</td>\n",
       "      <td>5894</td>\n",
       "      <td>5906</td>\n",
       "      <td>-</td>\n",
       "      <td>TTTTTATATATC</td>\n",
       "      <td>1.868152</td>\n",
       "      <td>0.053</td>\n",
       "      <td>no</td>\n",
       "      <td>no</td>\n",
       "      <td>no</td>\n",
       "    </tr>\n",
       "  </tbody>\n",
       "</table>\n",
       "<p>1224 rows × 16 columns</p>\n",
       "</div>"
      ],
      "text/plain": [
       "       tf  PWM score chromosome  glob. start  glob. end glob. strand  \\\n",
       "0     bcd   3.990082      chr2R     21102151   21102158            +   \n",
       "1     bcd   4.075856      chr2R     21102558   21102565            -   \n",
       "2     bcd   5.745742      chr2R     21104551   21104558            -   \n",
       "3     bcd   6.465945      chr2R     21104567   21104574            -   \n",
       "4     bcd   5.062177      chr2R     21104715   21104722            -   \n",
       "...   ...        ...        ...          ...        ...          ...   \n",
       "1219   gt   4.480987      chr2R     21119712   21119724            +   \n",
       "1220   gt   7.484714      chr2R     21119732   21119744            +   \n",
       "1221   gt   3.887716      chr2R     21119926   21119938            +   \n",
       "1222   gt   4.059812      chr2R     21119997   21120009            -   \n",
       "1223   gt   5.949660      chr2R     21120031   21120043            -   \n",
       "\n",
       "        glob. word  loc. start  loc. end loc. strand     loc. word  \\\n",
       "0          GTATTAG      -11986    -11979           +       GTATTAG   \n",
       "1          AAAATCC      -11579    -11572           -       AAAATCC   \n",
       "2          TTAATCT       -9586     -9579           -       TTAATCT   \n",
       "3          CTAATCT       -9570     -9563           -       CTAATCT   \n",
       "4          CTAATTC       -9422     -9415           -       CTAATTC   \n",
       "...            ...         ...       ...         ...           ...   \n",
       "1219  aatgggtaacac        5575      5587           +  aatgggtaacac   \n",
       "1220  aatatgtaagaa        5595      5607           +  aatatgtaagaa   \n",
       "1221  ATAACGCATAAC        5789      5801           +  ATAACGCATAAC   \n",
       "1222  TTCTTGCTGTTT        5860      5872           -  TTCTTGCTGTTT   \n",
       "1223  TTTTTATATATC        5894      5906           -  TTTTTATATATC   \n",
       "\n",
       "      best cluster P-value  ChIP-Seq peak height overlaps rep. constructs  \\\n",
       "0                 0.747875                 0.000                       no   \n",
       "1                 0.943873                 0.013                       no   \n",
       "2                 2.116179                 0.000                       no   \n",
       "3                 2.116179                 0.000                       no   \n",
       "4                 0.992124                 0.000                       no   \n",
       "...                    ...                   ...                      ...   \n",
       "1219              3.459304                 0.047                       no   \n",
       "1220              3.459304                 0.020                       no   \n",
       "1221              1.674795                 0.053                       no   \n",
       "1222              1.868152                 0.047                       no   \n",
       "1223              1.868152                 0.053                       no   \n",
       "\n",
       "     overlaps DNAse acc. regions hits neighboring genes  \n",
       "0                             no                     no  \n",
       "1                             no                     no  \n",
       "2                             no                     no  \n",
       "3                             no                     no  \n",
       "4                             no                     no  \n",
       "...                          ...                    ...  \n",
       "1219                          no                     no  \n",
       "1220                          no                     no  \n",
       "1221                          no                     no  \n",
       "1222                          no                     no  \n",
       "1223                          no                     no  \n",
       "\n",
       "[1224 rows x 16 columns]"
      ]
     },
     "execution_count": 4,
     "metadata": {},
     "output_type": "execute_result"
    }
   ],
   "source": [
    "dict_master['Kr']"
   ]
  },
  {
   "cell_type": "code",
   "execution_count": 9,
   "metadata": {},
   "outputs": [
    {
     "name": "stdout",
     "output_type": "stream",
     "text": [
      "['g', 'g', 'a', 't', 't', 't', 't']\n"
     ]
    }
   ],
   "source": [
    "master_kr = dict_master['Kr']\n",
    "tf = master_kr['tf'].to_list()\n",
    "sites = [site.lower() for site in master_kr['loc. word'].to_list()]\n",
    "scores = []\n",
    "\n",
    "dict_pwms = get_pwms(df_tf_data)\n",
    "for i, site in enumerate(sites):\n",
    "    score = 0\n",
    "    pwm = dict_pwms[tf[i]]\n",
    "    if master_kr.at[i, 'loc. strand'] == '-':\n",
    "        # reverse complementary if on the opposite strand\n",
    "        site = [complementary(bp) for bp in site[::-1]]\n",
    "    for j, bp in enumerate(site):\n",
    "        score += pwm[bp_to_idx(bp)][j]\n",
    "    scores.append(score)"
   ]
  },
  {
   "cell_type": "code",
   "execution_count": 10,
   "metadata": {},
   "outputs": [],
   "source": [
    "master_kr['PWM score 2'] = scores"
   ]
  },
  {
   "cell_type": "code",
   "execution_count": 11,
   "metadata": {},
   "outputs": [
    {
     "data": {
      "text/html": [
       "<div>\n",
       "<style scoped>\n",
       "    .dataframe tbody tr th:only-of-type {\n",
       "        vertical-align: middle;\n",
       "    }\n",
       "\n",
       "    .dataframe tbody tr th {\n",
       "        vertical-align: top;\n",
       "    }\n",
       "\n",
       "    .dataframe thead th {\n",
       "        text-align: right;\n",
       "    }\n",
       "</style>\n",
       "<table border=\"1\" class=\"dataframe\">\n",
       "  <thead>\n",
       "    <tr style=\"text-align: right;\">\n",
       "      <th></th>\n",
       "      <th>tf</th>\n",
       "      <th>PWM score</th>\n",
       "      <th>PWM score 2</th>\n",
       "      <th>loc. word</th>\n",
       "    </tr>\n",
       "  </thead>\n",
       "  <tbody>\n",
       "    <tr>\n",
       "      <th>0</th>\n",
       "      <td>bcd</td>\n",
       "      <td>3.990082</td>\n",
       "      <td>3.9900</td>\n",
       "      <td>GTATTAG</td>\n",
       "    </tr>\n",
       "    <tr>\n",
       "      <th>1</th>\n",
       "      <td>bcd</td>\n",
       "      <td>4.075856</td>\n",
       "      <td>4.0759</td>\n",
       "      <td>AAAATCC</td>\n",
       "    </tr>\n",
       "    <tr>\n",
       "      <th>2</th>\n",
       "      <td>bcd</td>\n",
       "      <td>5.745742</td>\n",
       "      <td>5.7456</td>\n",
       "      <td>TTAATCT</td>\n",
       "    </tr>\n",
       "    <tr>\n",
       "      <th>3</th>\n",
       "      <td>bcd</td>\n",
       "      <td>6.465945</td>\n",
       "      <td>6.4658</td>\n",
       "      <td>CTAATCT</td>\n",
       "    </tr>\n",
       "    <tr>\n",
       "      <th>4</th>\n",
       "      <td>bcd</td>\n",
       "      <td>5.062177</td>\n",
       "      <td>5.0621</td>\n",
       "      <td>CTAATTC</td>\n",
       "    </tr>\n",
       "    <tr>\n",
       "      <th>...</th>\n",
       "      <td>...</td>\n",
       "      <td>...</td>\n",
       "      <td>...</td>\n",
       "      <td>...</td>\n",
       "    </tr>\n",
       "    <tr>\n",
       "      <th>1219</th>\n",
       "      <td>gt</td>\n",
       "      <td>4.480987</td>\n",
       "      <td>4.4810</td>\n",
       "      <td>aatgggtaacac</td>\n",
       "    </tr>\n",
       "    <tr>\n",
       "      <th>1220</th>\n",
       "      <td>gt</td>\n",
       "      <td>7.484714</td>\n",
       "      <td>7.4847</td>\n",
       "      <td>aatatgtaagaa</td>\n",
       "    </tr>\n",
       "    <tr>\n",
       "      <th>1221</th>\n",
       "      <td>gt</td>\n",
       "      <td>3.887716</td>\n",
       "      <td>3.8878</td>\n",
       "      <td>ATAACGCATAAC</td>\n",
       "    </tr>\n",
       "    <tr>\n",
       "      <th>1222</th>\n",
       "      <td>gt</td>\n",
       "      <td>4.059812</td>\n",
       "      <td>4.0598</td>\n",
       "      <td>TTCTTGCTGTTT</td>\n",
       "    </tr>\n",
       "    <tr>\n",
       "      <th>1223</th>\n",
       "      <td>gt</td>\n",
       "      <td>5.949660</td>\n",
       "      <td>5.9497</td>\n",
       "      <td>TTTTTATATATC</td>\n",
       "    </tr>\n",
       "  </tbody>\n",
       "</table>\n",
       "<p>1224 rows × 4 columns</p>\n",
       "</div>"
      ],
      "text/plain": [
       "       tf  PWM score  PWM score 2     loc. word\n",
       "0     bcd   3.990082       3.9900       GTATTAG\n",
       "1     bcd   4.075856       4.0759       AAAATCC\n",
       "2     bcd   5.745742       5.7456       TTAATCT\n",
       "3     bcd   6.465945       6.4658       CTAATCT\n",
       "4     bcd   5.062177       5.0621       CTAATTC\n",
       "...   ...        ...          ...           ...\n",
       "1219   gt   4.480987       4.4810  aatgggtaacac\n",
       "1220   gt   7.484714       7.4847  aatatgtaagaa\n",
       "1221   gt   3.887716       3.8878  ATAACGCATAAC\n",
       "1222   gt   4.059812       4.0598  TTCTTGCTGTTT\n",
       "1223   gt   5.949660       5.9497  TTTTTATATATC\n",
       "\n",
       "[1224 rows x 4 columns]"
      ]
     },
     "execution_count": 11,
     "metadata": {},
     "output_type": "execute_result"
    }
   ],
   "source": [
    "master_kr[['tf', 'PWM score', 'PWM score 2', 'loc. word']]"
   ]
  },
  {
   "cell_type": "code",
   "execution_count": 13,
   "metadata": {},
   "outputs": [
    {
     "data": {
      "text/plain": [
       "array([-11.9074, -24.1155, -23.516 , ..., -14.4808,  -0.    ,  -0.    ])"
      ]
     },
     "execution_count": 13,
     "metadata": {},
     "output_type": "execute_result"
    }
   ],
   "source": [
    "-df_target_sites['energy'].to_numpy()"
   ]
  },
  {
   "cell_type": "code",
   "execution_count": 15,
   "metadata": {},
   "outputs": [
    {
     "data": {
      "text/html": [
       "<div>\n",
       "<style scoped>\n",
       "    .dataframe tbody tr th:only-of-type {\n",
       "        vertical-align: middle;\n",
       "    }\n",
       "\n",
       "    .dataframe tbody tr th {\n",
       "        vertical-align: top;\n",
       "    }\n",
       "\n",
       "    .dataframe thead th {\n",
       "        text-align: right;\n",
       "    }\n",
       "</style>\n",
       "<table border=\"1\" class=\"dataframe\">\n",
       "  <thead>\n",
       "    <tr style=\"text-align: right;\">\n",
       "      <th></th>\n",
       "      <th>tf</th>\n",
       "      <th>PWM score</th>\n",
       "      <th>chromosome</th>\n",
       "      <th>glob. start</th>\n",
       "      <th>glob. end</th>\n",
       "      <th>glob. strand</th>\n",
       "      <th>glob. word</th>\n",
       "      <th>loc. start</th>\n",
       "      <th>loc. end</th>\n",
       "      <th>loc. strand</th>\n",
       "      <th>loc. word</th>\n",
       "      <th>best cluster P-value</th>\n",
       "      <th>ChIP-Seq peak height</th>\n",
       "      <th>overlaps rep. constructs</th>\n",
       "      <th>overlaps DNAse acc. regions</th>\n",
       "      <th>hits neighboring genes</th>\n",
       "      <th>PWM score 2</th>\n",
       "    </tr>\n",
       "  </thead>\n",
       "  <tbody>\n",
       "    <tr>\n",
       "      <th>0</th>\n",
       "      <td>bcd</td>\n",
       "      <td>3.990082</td>\n",
       "      <td>chr2R</td>\n",
       "      <td>21102151</td>\n",
       "      <td>21102158</td>\n",
       "      <td>+</td>\n",
       "      <td>GTATTAG</td>\n",
       "      <td>-11986</td>\n",
       "      <td>-11979</td>\n",
       "      <td>+</td>\n",
       "      <td>GTATTAG</td>\n",
       "      <td>0.747875</td>\n",
       "      <td>0.000</td>\n",
       "      <td>no</td>\n",
       "      <td>no</td>\n",
       "      <td>no</td>\n",
       "      <td>3.9900</td>\n",
       "    </tr>\n",
       "    <tr>\n",
       "      <th>1065</th>\n",
       "      <td>gt</td>\n",
       "      <td>4.985296</td>\n",
       "      <td>chr2R</td>\n",
       "      <td>21102151</td>\n",
       "      <td>21102163</td>\n",
       "      <td>-</td>\n",
       "      <td>GTATTAGTTATT</td>\n",
       "      <td>-11986</td>\n",
       "      <td>-11974</td>\n",
       "      <td>-</td>\n",
       "      <td>GTATTAGTTATT</td>\n",
       "      <td>1.918192</td>\n",
       "      <td>0.027</td>\n",
       "      <td>no</td>\n",
       "      <td>no</td>\n",
       "      <td>no</td>\n",
       "      <td>4.9852</td>\n",
       "    </tr>\n",
       "    <tr>\n",
       "      <th>95</th>\n",
       "      <td>cad</td>\n",
       "      <td>4.458539</td>\n",
       "      <td>chr2R</td>\n",
       "      <td>21102156</td>\n",
       "      <td>21102166</td>\n",
       "      <td>-</td>\n",
       "      <td>AGTTATTAAG</td>\n",
       "      <td>-11981</td>\n",
       "      <td>-11971</td>\n",
       "      <td>-</td>\n",
       "      <td>AGTTATTAAG</td>\n",
       "      <td>0.674094</td>\n",
       "      <td>0.000</td>\n",
       "      <td>no</td>\n",
       "      <td>no</td>\n",
       "      <td>no</td>\n",
       "      <td>4.4587</td>\n",
       "    </tr>\n",
       "    <tr>\n",
       "      <th>1066</th>\n",
       "      <td>gt</td>\n",
       "      <td>4.948587</td>\n",
       "      <td>chr2R</td>\n",
       "      <td>21102170</td>\n",
       "      <td>21102182</td>\n",
       "      <td>-</td>\n",
       "      <td>TTGTTACATATA</td>\n",
       "      <td>-11967</td>\n",
       "      <td>-11955</td>\n",
       "      <td>-</td>\n",
       "      <td>TTGTTACATATA</td>\n",
       "      <td>1.918192</td>\n",
       "      <td>0.033</td>\n",
       "      <td>no</td>\n",
       "      <td>no</td>\n",
       "      <td>no</td>\n",
       "      <td>4.9486</td>\n",
       "    </tr>\n",
       "    <tr>\n",
       "      <th>434</th>\n",
       "      <td>hb</td>\n",
       "      <td>4.758241</td>\n",
       "      <td>chr2R</td>\n",
       "      <td>21102187</td>\n",
       "      <td>21102197</td>\n",
       "      <td>+</td>\n",
       "      <td>TGTAAAAAAT</td>\n",
       "      <td>-11950</td>\n",
       "      <td>-11940</td>\n",
       "      <td>+</td>\n",
       "      <td>TGTAAAAAAT</td>\n",
       "      <td>0.784403</td>\n",
       "      <td>0.047</td>\n",
       "      <td>no</td>\n",
       "      <td>no</td>\n",
       "      <td>no</td>\n",
       "      <td>4.7581</td>\n",
       "    </tr>\n",
       "    <tr>\n",
       "      <th>...</th>\n",
       "      <td>...</td>\n",
       "      <td>...</td>\n",
       "      <td>...</td>\n",
       "      <td>...</td>\n",
       "      <td>...</td>\n",
       "      <td>...</td>\n",
       "      <td>...</td>\n",
       "      <td>...</td>\n",
       "      <td>...</td>\n",
       "      <td>...</td>\n",
       "      <td>...</td>\n",
       "      <td>...</td>\n",
       "      <td>...</td>\n",
       "      <td>...</td>\n",
       "      <td>...</td>\n",
       "      <td>...</td>\n",
       "      <td>...</td>\n",
       "    </tr>\n",
       "    <tr>\n",
       "      <th>920</th>\n",
       "      <td>hb</td>\n",
       "      <td>4.957841</td>\n",
       "      <td>chr2R</td>\n",
       "      <td>21119995</td>\n",
       "      <td>21120005</td>\n",
       "      <td>-</td>\n",
       "      <td>GTTTCTTGCT</td>\n",
       "      <td>5858</td>\n",
       "      <td>5868</td>\n",
       "      <td>-</td>\n",
       "      <td>GTTTCTTGCT</td>\n",
       "      <td>1.414146</td>\n",
       "      <td>0.200</td>\n",
       "      <td>no</td>\n",
       "      <td>no</td>\n",
       "      <td>no</td>\n",
       "      <td>4.9578</td>\n",
       "    </tr>\n",
       "    <tr>\n",
       "      <th>1222</th>\n",
       "      <td>gt</td>\n",
       "      <td>4.059812</td>\n",
       "      <td>chr2R</td>\n",
       "      <td>21119997</td>\n",
       "      <td>21120009</td>\n",
       "      <td>-</td>\n",
       "      <td>TTCTTGCTGTTT</td>\n",
       "      <td>5860</td>\n",
       "      <td>5872</td>\n",
       "      <td>-</td>\n",
       "      <td>TTCTTGCTGTTT</td>\n",
       "      <td>1.868152</td>\n",
       "      <td>0.047</td>\n",
       "      <td>no</td>\n",
       "      <td>no</td>\n",
       "      <td>no</td>\n",
       "      <td>4.0598</td>\n",
       "    </tr>\n",
       "    <tr>\n",
       "      <th>1223</th>\n",
       "      <td>gt</td>\n",
       "      <td>5.949660</td>\n",
       "      <td>chr2R</td>\n",
       "      <td>21120031</td>\n",
       "      <td>21120043</td>\n",
       "      <td>-</td>\n",
       "      <td>TTTTTATATATC</td>\n",
       "      <td>5894</td>\n",
       "      <td>5906</td>\n",
       "      <td>-</td>\n",
       "      <td>TTTTTATATATC</td>\n",
       "      <td>1.868152</td>\n",
       "      <td>0.053</td>\n",
       "      <td>no</td>\n",
       "      <td>no</td>\n",
       "      <td>no</td>\n",
       "      <td>5.9497</td>\n",
       "    </tr>\n",
       "    <tr>\n",
       "      <th>921</th>\n",
       "      <td>hb</td>\n",
       "      <td>4.284202</td>\n",
       "      <td>chr2R</td>\n",
       "      <td>21120124</td>\n",
       "      <td>21120134</td>\n",
       "      <td>+</td>\n",
       "      <td>AATAGAAAAA</td>\n",
       "      <td>5987</td>\n",
       "      <td>5997</td>\n",
       "      <td>+</td>\n",
       "      <td>AATAGAAAAA</td>\n",
       "      <td>0.625387</td>\n",
       "      <td>0.153</td>\n",
       "      <td>no</td>\n",
       "      <td>yes</td>\n",
       "      <td>no</td>\n",
       "      <td>4.2841</td>\n",
       "    </tr>\n",
       "    <tr>\n",
       "      <th>922</th>\n",
       "      <td>hb</td>\n",
       "      <td>4.506514</td>\n",
       "      <td>chr2R</td>\n",
       "      <td>21120126</td>\n",
       "      <td>21120136</td>\n",
       "      <td>+</td>\n",
       "      <td>TAGAAAAAAG</td>\n",
       "      <td>5989</td>\n",
       "      <td>5999</td>\n",
       "      <td>+</td>\n",
       "      <td>TAGAAAAAAG</td>\n",
       "      <td>0.625387</td>\n",
       "      <td>0.113</td>\n",
       "      <td>no</td>\n",
       "      <td>yes</td>\n",
       "      <td>no</td>\n",
       "      <td>4.5064</td>\n",
       "    </tr>\n",
       "  </tbody>\n",
       "</table>\n",
       "<p>1224 rows × 17 columns</p>\n",
       "</div>"
      ],
      "text/plain": [
       "       tf  PWM score chromosome  glob. start  glob. end glob. strand  \\\n",
       "0     bcd   3.990082      chr2R     21102151   21102158            +   \n",
       "1065   gt   4.985296      chr2R     21102151   21102163            -   \n",
       "95    cad   4.458539      chr2R     21102156   21102166            -   \n",
       "1066   gt   4.948587      chr2R     21102170   21102182            -   \n",
       "434    hb   4.758241      chr2R     21102187   21102197            +   \n",
       "...   ...        ...        ...          ...        ...          ...   \n",
       "920    hb   4.957841      chr2R     21119995   21120005            -   \n",
       "1222   gt   4.059812      chr2R     21119997   21120009            -   \n",
       "1223   gt   5.949660      chr2R     21120031   21120043            -   \n",
       "921    hb   4.284202      chr2R     21120124   21120134            +   \n",
       "922    hb   4.506514      chr2R     21120126   21120136            +   \n",
       "\n",
       "        glob. word  loc. start  loc. end loc. strand     loc. word  \\\n",
       "0          GTATTAG      -11986    -11979           +       GTATTAG   \n",
       "1065  GTATTAGTTATT      -11986    -11974           -  GTATTAGTTATT   \n",
       "95      AGTTATTAAG      -11981    -11971           -    AGTTATTAAG   \n",
       "1066  TTGTTACATATA      -11967    -11955           -  TTGTTACATATA   \n",
       "434     TGTAAAAAAT      -11950    -11940           +    TGTAAAAAAT   \n",
       "...            ...         ...       ...         ...           ...   \n",
       "920     GTTTCTTGCT        5858      5868           -    GTTTCTTGCT   \n",
       "1222  TTCTTGCTGTTT        5860      5872           -  TTCTTGCTGTTT   \n",
       "1223  TTTTTATATATC        5894      5906           -  TTTTTATATATC   \n",
       "921     AATAGAAAAA        5987      5997           +    AATAGAAAAA   \n",
       "922     TAGAAAAAAG        5989      5999           +    TAGAAAAAAG   \n",
       "\n",
       "      best cluster P-value  ChIP-Seq peak height overlaps rep. constructs  \\\n",
       "0                 0.747875                 0.000                       no   \n",
       "1065              1.918192                 0.027                       no   \n",
       "95                0.674094                 0.000                       no   \n",
       "1066              1.918192                 0.033                       no   \n",
       "434               0.784403                 0.047                       no   \n",
       "...                    ...                   ...                      ...   \n",
       "920               1.414146                 0.200                       no   \n",
       "1222              1.868152                 0.047                       no   \n",
       "1223              1.868152                 0.053                       no   \n",
       "921               0.625387                 0.153                       no   \n",
       "922               0.625387                 0.113                       no   \n",
       "\n",
       "     overlaps DNAse acc. regions hits neighboring genes  PWM score 2  \n",
       "0                             no                     no       3.9900  \n",
       "1065                          no                     no       4.9852  \n",
       "95                            no                     no       4.4587  \n",
       "1066                          no                     no       4.9486  \n",
       "434                           no                     no       4.7581  \n",
       "...                          ...                    ...          ...  \n",
       "920                           no                     no       4.9578  \n",
       "1222                          no                     no       4.0598  \n",
       "1223                          no                     no       5.9497  \n",
       "921                          yes                     no       4.2841  \n",
       "922                          yes                     no       4.5064  \n",
       "\n",
       "[1224 rows x 17 columns]"
      ]
     },
     "execution_count": 15,
     "metadata": {},
     "output_type": "execute_result"
    }
   ],
   "source": [
    "master_kr.sort_values('loc. start')"
   ]
  },
  {
   "cell_type": "markdown",
   "metadata": {},
   "source": [
    "# Old figures"
   ]
  },
  {
   "cell_type": "code",
   "execution_count": 10,
   "metadata": {},
   "outputs": [
    {
     "data": {
      "text/plain": [
       "array([  403,   422,   567,  1711,  3218,  3432,  3671,  3687,  3789,\n",
       "        4108,  4957,  4958,  5151,  5169,  5782,  6459,  8339,  8812,\n",
       "        9821,  9889,  9934,  9975,  9976,  9992,  9998,  9999, 10279,\n",
       "       10988, 11228, 11229, 11243, 12560, 12685, 13108, 13450, 13702,\n",
       "       13822, 14806, 15829, 16279, 16351, 16600, 17532])"
      ]
     },
     "execution_count": 10,
     "metadata": {},
     "output_type": "execute_result"
    }
   ],
   "source": [
    "df_target_sites.loc[df_target_sites['name_strand'] == \"Kr5'3'\"]['pos'].to_numpy(dtype=int)"
   ]
  },
  {
   "cell_type": "code",
   "execution_count": 4,
   "metadata": {},
   "outputs": [
    {
     "data": {
      "image/png": "[encoded data removed]",
      "text/plain": [
       "<Figure size 288x216 with 1 Axes>"
      ]
     },
     "metadata": {
      "needs_background": "light"
     },
     "output_type": "display_data"
    }
   ],
   "source": [
    "#%% Probability of each energy\n",
    "tf_list = np.array(df_tf_data.index, dtype=str)\n",
    "tf_num = len(tf_list)\n",
    "tf_size = np.array([get_motif_size(df_tf_data.at[tf_list[i], MOTIF])\n",
    "                    + int(df_tf_data.at[tf_list[i], SIZE_LEFT])\n",
    "                    + int(df_tf_data.at[tf_list[i], SIZE_RIGHT]) for i in range(tf_num)], dtype=int)\n",
    "\n",
    "tf_list_2dir = df_site_energy.columns[1:]\n",
    "tf_num_2dir = len(tf_list_2dir)\n",
    "\n",
    "if tf_num != tf_num_2dir:\n",
    "    # 2 directions\n",
    "    both_dir = True\n",
    "    tf_size_2dir = double_each_element(tf_size)\n",
    "else:\n",
    "    # 1 direction\n",
    "    both_dir = False\n",
    "    tf_size_2dir = tf_size\n",
    "\n",
    "nonspecific_time = np.array(df_tf_data[NONSPEC_WAITING_TIME], dtype=float)\n",
    "total_time = float(dict_params[TOTAL_SIM_TIME])\n",
    "assoc_rate = np.array(df_tf_data[ASSOC_RATE], dtype=float)\n",
    "unbind_prob = np.array(df_tf_data[UNBIND_PROB], dtype=float) * np.array(df_tf_data[JUMP_PROB], dtype=float)\n",
    "if both_dir:\n",
    "    assoc_rate = double_each_element(assoc_rate)\n",
    "    #np.array([[assoc_rate[i],]*2 for i in range(tf_num)]).reshape(tf_num_2dir)\n",
    "    unbind_prob = double_each_element(unbind_prob)\n",
    "    #np.array([[unbind_prob[i],]*2 for i in range(tf_num)]).reshape(tf_num_2dir)\n",
    "    nonspecific_time = double_each_element(nonspecific_time)\n",
    "    #np.array([[nonspecific_time[i],]*2 for i in range(tf_num)]).reshape(tf_num_2dir)\n",
    "energy = df_site_energy.to_numpy().transpose()[1:]\n",
    "for i in range(tf_num):\n",
    "    energy[:,-tf_size[i]+1:] = +np.inf\n",
    "energy_exponent = np.exp(-energy)\n",
    "#prob_from_energy = (energy_exponent.T / (unbind_prob/assoc_rate/nonspecific_time + np.sum(energy_exponent, axis=1))).T\n",
    "occupancy_from_exper = df_occupancy.to_numpy().transpose()[2:]\n",
    "\n",
    "plt.figure(figsize=(4,3))\n",
    "for tf_i in range(tf_num_2dir):\n",
    "    sites = df_target_sites.loc[df_target_sites['name_strand'] == tf_list_2dir[tf_i]]['pos'].to_numpy(dtype=int)\n",
    "    sites = np.arange(0, occupancy_from_exper.shape[1], 3)\n",
    "    #plt.title(tf_list_2dir[tf_i])\n",
    "    plt.xlabel('$\\\\tau/\\\\tau_0$')\n",
    "    plt.ylabel('$e^{-E_{PWM}}$')\n",
    "    plt.loglog(occupancy_from_exper[tf_i][sites]/nonspecific_time[tf_i], energy_exponent[tf_i][sites], lw=0, marker='.')"
   ]
  },
  {
   "cell_type": "code",
   "execution_count": 4,
   "metadata": {},
   "outputs": [
    {
     "data": {
      "text/plain": [
       "(16, 18001)"
      ]
     },
     "execution_count": 4,
     "metadata": {},
     "output_type": "execute_result"
    }
   ],
   "source": [
    "occupancy_from_exper.shape"
   ]
  },
  {
   "cell_type": "code",
   "execution_count": 33,
   "metadata": {},
   "outputs": [
    {
     "data": {
      "text/plain": [
       "(8,)"
      ]
     },
     "execution_count": 33,
     "metadata": {},
     "output_type": "execute_result"
    }
   ],
   "source": [
    "np.array(df_tf_data[NONSPEC_WAITING_TIME], dtype=float).shape"
   ]
  },
  {
   "cell_type": "code",
   "execution_count": 26,
   "metadata": {},
   "outputs": [
    {
     "data": {
      "text/plain": [
       "<matplotlib.legend.Legend at 0x7fb13bf83fa0>"
      ]
     },
     "execution_count": 26,
     "metadata": {},
     "output_type": "execute_result"
    },
    {
     "data": {
      "image/png": "[encoded data removed]",
      "text/plain": [
       "<Figure size 288x216 with 1 Axes>"
      ]
     },
     "metadata": {
      "needs_background": "light"
     },
     "output_type": "display_data"
    }
   ],
   "source": [
    "#%% Probability of each site\n",
    "nonspecific_time = float(df_tf_data.at['Kr', NONSPEC_WAITING_TIME])\n",
    "total_time = float(dict_params[TOTAL_SIM_TIME])\n",
    "assoc_rate = float(df_tf_data.at['Kr', ASSOC_RATE])\n",
    "unbind_prob = float(df_tf_data.at['Kr', UNBIND_PROB]) * float(df_tf_data.at['Kr', JUMP_PROB])\n",
    "#prob_from_energy = np.exp(-df_site_energy['Kr'].to_numpy()[:-2]) * nonspecific_time / total_time\n",
    "energy_exponent = np.exp(-df_site_energy['Kr'].to_numpy()[:-2])\n",
    "prob_from_energy = energy_exponent / (unbind_prob/assoc_rate/nonspecific_time + np.sum(energy_exponent))\n",
    "prob_from_exper = df_occupancy['Kr'].to_numpy()[:-2] / total_time\n",
    "plt.figure(figsize=(4,3))\n",
    "plt.plot(prob_from_energy, marker='o', label='Boltzmann')\n",
    "plt.plot(prob_from_exper, marker='o', label='experiment')\n",
    "plt.xlabel('site position')\n",
    "plt.ylabel('probability')\n",
    "plt.legend()"
   ]
  },
  {
   "cell_type": "code",
   "execution_count": 27,
   "metadata": {},
   "outputs": [
    {
     "data": {
      "image/png": "[encoded data removed]",
      "text/plain": [
       "<Figure size 288x216 with 1 Axes>"
      ]
     },
     "metadata": {
      "needs_background": "light"
     },
     "output_type": "display_data"
    },
    {
     "data": {
      "image/png": "[encoded data removed]",
      "text/plain": [
       "<Figure size 288x216 with 1 Axes>"
      ]
     },
     "metadata": {
      "needs_background": "light"
     },
     "output_type": "display_data"
    }
   ],
   "source": [
    "#%% Probability of each energy\n",
    "tf_list = np.array(df_tf_data.index, dtype=str)\n",
    "tf_num = len(tf_list)\n",
    "tf_size = np.array([get_motif_size(df_tf_data.at[tf_list[i], MOTIF])\n",
    "                    + int(df_tf_data.at[tf_list[i], SIZE_LEFT])\n",
    "                    + int(df_tf_data.at[tf_list[i], SIZE_RIGHT]) for i in range(tf_num)], dtype=int)\n",
    "nonspecific_time = np.array(df_tf_data[NONSPEC_WAITING_TIME], dtype=float)\n",
    "total_time = float(dict_params[TOTAL_SIM_TIME])\n",
    "assoc_rate = np.array(df_tf_data[ASSOC_RATE], dtype=float)\n",
    "unbind_prob = np.array(df_tf_data[UNBIND_PROB], dtype=float) * np.array(df_tf_data[JUMP_PROB], dtype=float)\n",
    "energy = df_site_energy.to_numpy().transpose()[1:]\n",
    "for i in range(tf_num):\n",
    "    energy[:,-tf_size[i]+1:] = +np.inf\n",
    "energy_exponent = np.exp(-energy)\n",
    "prob_from_energy = energy_exponent / (unbind_prob/assoc_rate/nonspecific_time + np.sum(energy_exponent, axis=1))\n",
    "prob_from_exper = df_occupancy.to_numpy().transpose()[2:] / total_time\n",
    "\n",
    "for tf_i in range(tf_num):\n",
    "    sort_idx = np.argsort(energy[tf_i])\n",
    "    #energy_cont = np.linspace(energy[tf_i][sort_idx][0], energy[tf_i][sort_idx][-tf_size[tf_i]], 101)\n",
    "    #prob_from_energy_cont = np.exp(-energy_cont) / (unbind_prob[tf_i]/assoc_rate[tf_i]/nonspecific_time[tf_i] + np.exp(-energy_cont[0]) - np.exp(-energy_cont[-1]))\n",
    "    \n",
    "    plt.figure(figsize=(4,3))\n",
    "    #plt.plot(energy_cont, prob_from_energy_cont, label='Boltzmann: continuous')\n",
    "    plt.plot(energy[tf_i][sort_idx], prob_from_energy[tf_i][sort_idx], marker='.', label='Boltzmann')\n",
    "    plt.plot(energy[tf_i][sort_idx], prob_from_exper[tf_i][sort_idx], marker='.', label='experimental')\n",
    "    plt.xlabel('energy')\n",
    "    plt.ylabel('probability')\n",
    "    plt.legend()\n",
    "\n",
    "    plt.figure(figsize=(4,3))\n",
    "    plt.plot(prob_from_energy[tf_i], marker='o', label='Boltzmann')\n",
    "    plt.plot(prob_from_exper[tf_i], marker='o', label='experiment')\n",
    "    plt.xlabel('site position')\n",
    "    plt.ylabel('probability')\n",
    "    plt.legend()"
   ]
  },
  {
   "cell_type": "code",
   "execution_count": 12,
   "metadata": {},
   "outputs": [
    {
     "data": {
      "text/plain": [
       "0.9999999972394411"
      ]
     },
     "execution_count": 12,
     "metadata": {},
     "output_type": "execute_result"
    }
   ],
   "source": [
    "np.sum(prob_from_energy)"
   ]
  },
  {
   "cell_type": "code",
   "execution_count": null,
   "metadata": {},
   "outputs": [],
   "source": []
  },
  {
   "cell_type": "code",
   "execution_count": 6,
   "metadata": {},
   "outputs": [
    {
     "data": {
      "text/plain": [
       "numpy.str_"
      ]
     },
     "execution_count": 6,
     "metadata": {},
     "output_type": "execute_result"
    }
   ],
   "source": [
    "type(tf_list[0])"
   ]
  },
  {
   "cell_type": "code",
   "execution_count": 3,
   "metadata": {},
   "outputs": [
    {
     "name": "stderr",
     "output_type": "stream",
     "text": [
      "/home/fedor/anaconda3/lib/python3.8/site-packages/pandas/core/arraylike.py:358: RuntimeWarning: divide by zero encountered in log\n",
      "  result = getattr(ufunc, method)(*inputs, **kwargs)\n"
     ]
    },
    {
     "data": {
      "text/plain": [
       "<matplotlib.legend.Legend at 0x7f0d193bfc10>"
      ]
     },
     "execution_count": 3,
     "metadata": {},
     "output_type": "execute_result"
    },
    {
     "data": {
      "image/png": "[encoded data removed]",
      "text/plain": [
       "<Figure size 432x288 with 1 Axes>"
      ]
     },
     "metadata": {
      "needs_background": "light"
     },
     "output_type": "display_data"
    }
   ],
   "source": [
    "# %% Affinity landscape\n",
    "nonspecific_time = float(df_tf_data.at['Kr', NONSPEC_WAITING_TIME])\n",
    "df_affinity = df_occupancy.copy()\n",
    "df_affinity['Kr'] = -np.log(df_occupancy['Kr']/nonspecific_time)\n",
    "# plot energies\n",
    "plt.figure()\n",
    "plt.plot(df_site_energy['Kr'].to_numpy()[:-2], marker='o', label='PFM-energy')\n",
    "plt.plot(df_affinity['Kr'].to_numpy()[:-2], marker='o', label='experiment')\n",
    "plt.legend()"
   ]
  },
  {
   "cell_type": "code",
   "execution_count": null,
   "metadata": {},
   "outputs": [],
   "source": []
  }
 ],
 "metadata": {
  "interpreter": {
   "hash": "bdb852d2a37d23b8ee2a3cdfcef457f25c36800d6b0851c350283f047ac365ce"
  },
  "kernelspec": {
   "display_name": "Python 3",
   "language": "python",
   "name": "python3"
  },
  "language_info": {
   "codemirror_mode": {
    "name": "ipython",
    "version": 3
   },
   "file_extension": ".py",
   "mimetype": "text/x-python",
   "name": "python",
   "nbconvert_exporter": "python",
   "pygments_lexer": "ipython3",
   "version": "3.8.8"
  }
 },
 "nbformat": 4,
 "nbformat_minor": 2
}
