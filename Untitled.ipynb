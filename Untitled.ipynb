{
 "cells": [
  {
   "cell_type": "code",
   "execution_count": 113,
   "id": "2710e735",
   "metadata": {},
   "outputs": [],
   "source": [
    "import pandas as pd\n",
    "import numpy as np \n",
    "from itertools import islice\n",
    "filepath = \"results_example\\drosophila_kr\\drosoph_kr_status_16503428093686928554.txt\""
   ]
  },
  {
   "cell_type": "code",
   "execution_count": 114,
   "id": "21d094b3",
   "metadata": {},
   "outputs": [],
   "source": [
    "def find_file_segment(path, required):\n",
    "    with open(path, \"r\") as file:\n",
    "        for num_line, line in enumerate(file):\n",
    "                if required in line:\n",
    "                    print(line)\n",
    "                    return(num_line)\n",
    "\n"
   ]
  },
  {
   "cell_type": "code",
   "execution_count": 115,
   "id": "849bf5d3",
   "metadata": {},
   "outputs": [
    {
     "name": "stdout",
     "output_type": "stream",
     "text": [
      "Cell simulation time: 10.0 seconds\n",
      "\n",
      "Elapsed time: 39.63 sec\n",
      "\n",
      "1232\n",
      "118676\n"
     ]
    }
   ],
   "source": [
    "required_first = \"Cell simulation time:\"\n",
    "required_second = \"Elapsed time:\"\n",
    "Start = find_file_segment(filepath,required_first) + 3\n",
    "End = find_file_segment(filepath,required_second) - 2\n",
    "print(Start)\n",
    "print(End)"
   ]
  },
  {
   "cell_type": "code",
   "execution_count": null,
   "id": "2c0bd0fb",
   "metadata": {
    "scrolled": false
   },
   "outputs": [],
   "source": []
  },
  {
   "cell_type": "code",
   "execution_count": 197,
   "id": "f3668597",
   "metadata": {},
   "outputs": [],
   "source": [
    "def parse_string(Parametr):\n",
    "    file = open(filepath, \"r\")\n",
    "    list = []\n",
    "    for i in islice(file, Start, End):\n",
    "        if \"Full update of TF binding propensities\" in i:\n",
    "            continue\n",
    "        if \"bound\" in i:\n",
    "            if Parametr==7 :\n",
    "                list.append(i.split()[Parametr-1])\n",
    "                continue\n",
    "            elif \"unbound\" in i:\n",
    "                if Parametr==10:  \n",
    "                    list.append(i.split()[12])\n",
    "                    continue\n",
    "                if Parametr==12:\n",
    "                    list.append(\"-\")\n",
    "                    continue\n",
    "            if Parametr==10:\n",
    "                list.append(i.split()[Parametr-1])\n",
    "                continue\n",
    "        if \"hop\" in i:\n",
    "            if \"hopped at the same position\" in i:\n",
    "                if Parametr==7:\n",
    "                    list.append(\"hop\")\n",
    "                    continue\n",
    "                if Parametr==10:\n",
    "                    list.append(i.split()[Parametr+1])\n",
    "                    continue\n",
    "                if Parametr==12:\n",
    "                    list.append(\"Same pos\")\n",
    "                    continue\n",
    "            if Parametr==7:\n",
    "                list.append(\"hop \" + i.split()[Parametr])\n",
    "                continue\n",
    "        if \"is switching between search and recognition state\" in i:\n",
    "            if Parametr==7:\n",
    "                list.append(\"Switch\")\n",
    "                continue\n",
    "            if Parametr==10:\n",
    "                list.append(i.split()[8])\n",
    "                continue\n",
    "            if Parametr==12:\n",
    "                list.append(i.split()[25])\n",
    "                continue\n",
    "        \n",
    "\n",
    "                            \n",
    "            \n",
    "        list.append(i.split()[Parametr])\n",
    "    return list"
   ]
  },
  {
   "cell_type": "code",
   "execution_count": 198,
   "id": "17a864f6",
   "metadata": {
    "scrolled": true
   },
   "outputs": [
    {
     "name": "stdout",
     "output_type": "stream",
     "text": [
      "                    Time Number Type Action Position Details\n",
      "0     6.242413351398217:   8955   kr  bound     4727  3'->5'\n",
      "1      6.24241337758004:   8955   kr   left     4727       1\n",
      "2     6.242413509821137:   8955   kr   left     4726       1\n",
      "3     6.242413562541543:   8955   kr   left     4725       1\n",
      "4     6.242413577827941:   8955   kr  right     4724       1\n",
      "...                  ...    ...  ...    ...      ...     ...\n",
      "5875  6.242987954841894:   8955   kr   left     4645       1\n",
      "5876  6.242988278786488:   8955   kr   left     4644       1\n",
      "5877  6.242988377398284:   8955   kr   left     4643       1\n",
      "5878  6.242988389666973:   8955   kr   left     4642       1\n",
      "5879  6.242988532254616:   8955   kr   left     4641       1\n",
      "\n",
      "[5880 rows x 6 columns]\n"
     ]
    }
   ],
   "source": [
    "data = {'Time': parse_string(0), 'Number': parse_string(2), 'Type': parse_string(5), 'Action': parse_string(7), 'Position': parse_string(10), 'Details': parse_string(12)}\n",
    "df = pd.DataFrame(data)\n",
    "print(df)"
   ]
  },
  {
   "cell_type": "code",
   "execution_count": null,
   "id": "abcf10b4",
   "metadata": {},
   "outputs": [],
   "source": []
  },
  {
   "cell_type": "code",
   "execution_count": null,
   "id": "112cde6b",
   "metadata": {},
   "outputs": [],
   "source": []
  }
 ],
 "metadata": {
  "kernelspec": {
   "display_name": "Python 3 (ipykernel)",
   "language": "python",
   "name": "python3"
  },
  "language_info": {
   "codemirror_mode": {
    "name": "ipython",
    "version": 3
   },
   "file_extension": ".py",
   "mimetype": "text/x-python",
   "name": "python",
   "nbconvert_exporter": "python",
   "pygments_lexer": "ipython3",
   "version": "3.9.13"
  }
 },
 "nbformat": 4,
 "nbformat_minor": 5
}
